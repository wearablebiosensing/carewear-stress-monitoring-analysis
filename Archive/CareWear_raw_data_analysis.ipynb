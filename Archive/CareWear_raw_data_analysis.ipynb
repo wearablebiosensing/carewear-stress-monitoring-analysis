{
 "cells": [
  {
   "cell_type": "code",
   "execution_count": 1,
   "id": "c57058b9",
   "metadata": {},
   "outputs": [
    {
     "name": "stdout",
     "output_type": "stream",
     "text": [
      "Once deleted, variables cannot be recovered. Proceed (y/[n])? y\n"
     ]
    }
   ],
   "source": [
    "%reset"
   ]
  },
  {
   "cell_type": "code",
   "execution_count": 2,
   "id": "41c13f9a",
   "metadata": {},
   "outputs": [],
   "source": [
    "\n",
    "import pandas as pd \n",
    "import numpy as np \n",
    "import os \n",
    "import glob\n",
    "import plotly.express as px\n",
    "import re\n",
    "import plotly.graph_objects as go\n",
    "from plotly.subplots import make_subplots\n",
    "import matplotlib.pyplot as plt\n",
    "import bioread\n",
    "from scipy.signal import resample\n",
    "\n",
    "import pytz\n",
    "\n",
    "from datetime import datetime\n",
    "from pathlib import Path\n",
    "import glob\n",
    "import ipywidgets as widgets\n",
    "from IPython.display import display"
   ]
  },
  {
   "cell_type": "code",
   "execution_count": 3,
   "id": "ffcf5c6c",
   "metadata": {
    "scrolled": true
   },
   "outputs": [
    {
     "data": {
      "text/plain": [
       "['/Users/shehjarsadhu/Desktop/UniversityOfRhodeIsland/Graduate/WBL/Project_Carehub_CareWear/DATASET/StudyData_Drive_2024_25/Concat_File/gry_P11.csv',\n",
       " '/Users/shehjarsadhu/Desktop/UniversityOfRhodeIsland/Graduate/WBL/Project_Carehub_CareWear/DATASET/StudyData_Drive_2024_25/Concat_File/heart_rate_P7.csv',\n",
       " '/Users/shehjarsadhu/Desktop/UniversityOfRhodeIsland/Graduate/WBL/Project_Carehub_CareWear/DATASET/StudyData_Drive_2024_25/Concat_File/heart_rate_P6.csv',\n",
       " '/Users/shehjarsadhu/Desktop/UniversityOfRhodeIsland/Graduate/WBL/Project_Carehub_CareWear/DATASET/StudyData_Drive_2024_25/Concat_File/gry_P10.csv',\n",
       " '/Users/shehjarsadhu/Desktop/UniversityOfRhodeIsland/Graduate/WBL/Project_Carehub_CareWear/DATASET/StudyData_Drive_2024_25/Concat_File/gry_P12.csv',\n",
       " '/Users/shehjarsadhu/Desktop/UniversityOfRhodeIsland/Graduate/WBL/Project_Carehub_CareWear/DATASET/StudyData_Drive_2024_25/Concat_File/heart_rate_P4.csv',\n",
       " '/Users/shehjarsadhu/Desktop/UniversityOfRhodeIsland/Graduate/WBL/Project_Carehub_CareWear/DATASET/StudyData_Drive_2024_25/Concat_File/P10_biopac.csv',\n",
       " '/Users/shehjarsadhu/Desktop/UniversityOfRhodeIsland/Graduate/WBL/Project_Carehub_CareWear/DATASET/StudyData_Drive_2024_25/Concat_File/gry_P13.csv',\n",
       " '/Users/shehjarsadhu/Desktop/UniversityOfRhodeIsland/Graduate/WBL/Project_Carehub_CareWear/DATASET/StudyData_Drive_2024_25/Concat_File/gry_P17.csv',\n",
       " '/Users/shehjarsadhu/Desktop/UniversityOfRhodeIsland/Graduate/WBL/Project_Carehub_CareWear/DATASET/StudyData_Drive_2024_25/Concat_File/P19_belt.csv',\n",
       " '/Users/shehjarsadhu/Desktop/UniversityOfRhodeIsland/Graduate/WBL/Project_Carehub_CareWear/DATASET/StudyData_Drive_2024_25/Concat_File/P18_belt.csv',\n",
       " '/Users/shehjarsadhu/Desktop/UniversityOfRhodeIsland/Graduate/WBL/Project_Carehub_CareWear/DATASET/StudyData_Drive_2024_25/Concat_File/heart_rate_P1.csv',\n",
       " '/Users/shehjarsadhu/Desktop/UniversityOfRhodeIsland/Graduate/WBL/Project_Carehub_CareWear/DATASET/StudyData_Drive_2024_25/Concat_File/gry_P9.csv',\n",
       " '/Users/shehjarsadhu/Desktop/UniversityOfRhodeIsland/Graduate/WBL/Project_Carehub_CareWear/DATASET/StudyData_Drive_2024_25/Concat_File/P8_biopac.csv',\n",
       " '/Users/shehjarsadhu/Desktop/UniversityOfRhodeIsland/Graduate/WBL/Project_Carehub_CareWear/DATASET/StudyData_Drive_2024_25/Concat_File/P22_biopac.csv',\n",
       " '/Users/shehjarsadhu/Desktop/UniversityOfRhodeIsland/Graduate/WBL/Project_Carehub_CareWear/DATASET/StudyData_Drive_2024_25/Concat_File/P7_belt.csv',\n",
       " '/Users/shehjarsadhu/Desktop/UniversityOfRhodeIsland/Graduate/WBL/Project_Carehub_CareWear/DATASET/StudyData_Drive_2024_25/Concat_File/P6_belt.csv',\n",
       " '/Users/shehjarsadhu/Desktop/UniversityOfRhodeIsland/Graduate/WBL/Project_Carehub_CareWear/DATASET/StudyData_Drive_2024_25/Concat_File/gry_P8.csv',\n",
       " '/Users/shehjarsadhu/Desktop/UniversityOfRhodeIsland/Graduate/WBL/Project_Carehub_CareWear/DATASET/StudyData_Drive_2024_25/Concat_File/gry_P16.csv',\n",
       " '/Users/shehjarsadhu/Desktop/UniversityOfRhodeIsland/Graduate/WBL/Project_Carehub_CareWear/DATASET/StudyData_Drive_2024_25/Concat_File/P18_biopac.csv',\n",
       " '/Users/shehjarsadhu/Desktop/UniversityOfRhodeIsland/Graduate/WBL/Project_Carehub_CareWear/DATASET/StudyData_Drive_2024_25/Concat_File/gry_P14.csv',\n",
       " '/Users/shehjarsadhu/Desktop/UniversityOfRhodeIsland/Graduate/WBL/Project_Carehub_CareWear/DATASET/StudyData_Drive_2024_25/Concat_File/P5_biopac.csv',\n",
       " '/Users/shehjarsadhu/Desktop/UniversityOfRhodeIsland/Graduate/WBL/Project_Carehub_CareWear/DATASET/StudyData_Drive_2024_25/Concat_File/heart_rate_P2.csv',\n",
       " '/Users/shehjarsadhu/Desktop/UniversityOfRhodeIsland/Graduate/WBL/Project_Carehub_CareWear/DATASET/StudyData_Drive_2024_25/Concat_File/P13_belt.csv',\n",
       " '/Users/shehjarsadhu/Desktop/UniversityOfRhodeIsland/Graduate/WBL/Project_Carehub_CareWear/DATASET/StudyData_Drive_2024_25/Concat_File/P12_belt.csv',\n",
       " '/Users/shehjarsadhu/Desktop/UniversityOfRhodeIsland/Graduate/WBL/Project_Carehub_CareWear/DATASET/StudyData_Drive_2024_25/Concat_File/heart_rate_P3.csv',\n",
       " '/Users/shehjarsadhu/Desktop/UniversityOfRhodeIsland/Graduate/WBL/Project_Carehub_CareWear/DATASET/StudyData_Drive_2024_25/Concat_File/gry_P15.csv',\n",
       " '/Users/shehjarsadhu/Desktop/UniversityOfRhodeIsland/Graduate/WBL/Project_Carehub_CareWear/DATASET/StudyData_Drive_2024_25/Concat_File/heart_rate_P26.csv',\n",
       " '/Users/shehjarsadhu/Desktop/UniversityOfRhodeIsland/Graduate/WBL/Project_Carehub_CareWear/DATASET/StudyData_Drive_2024_25/Concat_File/acc_P16.csv',\n",
       " '/Users/shehjarsadhu/Desktop/UniversityOfRhodeIsland/Graduate/WBL/Project_Carehub_CareWear/DATASET/StudyData_Drive_2024_25/Concat_File/P20_belt.csv',\n",
       " '/Users/shehjarsadhu/Desktop/UniversityOfRhodeIsland/Graduate/WBL/Project_Carehub_CareWear/DATASET/StudyData_Drive_2024_25/Concat_File/P21_belt.csv',\n",
       " '/Users/shehjarsadhu/Desktop/UniversityOfRhodeIsland/Graduate/WBL/Project_Carehub_CareWear/DATASET/StudyData_Drive_2024_25/Concat_File/P1_belt.csv',\n",
       " '/Users/shehjarsadhu/Desktop/UniversityOfRhodeIsland/Graduate/WBL/Project_Carehub_CareWear/DATASET/StudyData_Drive_2024_25/Concat_File/acc_P17.csv',\n",
       " '/Users/shehjarsadhu/Desktop/UniversityOfRhodeIsland/Graduate/WBL/Project_Carehub_CareWear/DATASET/StudyData_Drive_2024_25/Concat_File/acc_P4.csv',\n",
       " '/Users/shehjarsadhu/Desktop/UniversityOfRhodeIsland/Graduate/WBL/Project_Carehub_CareWear/DATASET/StudyData_Drive_2024_25/Concat_File/P2_biopac.csv',\n",
       " '/Users/shehjarsadhu/Desktop/UniversityOfRhodeIsland/Graduate/WBL/Project_Carehub_CareWear/DATASET/StudyData_Drive_2024_25/Concat_File/acc_P6.csv',\n",
       " '/Users/shehjarsadhu/Desktop/UniversityOfRhodeIsland/Graduate/WBL/Project_Carehub_CareWear/DATASET/StudyData_Drive_2024_25/Concat_File/heart_rate_P19.csv',\n",
       " '/Users/shehjarsadhu/Desktop/UniversityOfRhodeIsland/Graduate/WBL/Project_Carehub_CareWear/DATASET/StudyData_Drive_2024_25/Concat_File/heart_rate_P25.csv',\n",
       " '/Users/shehjarsadhu/Desktop/UniversityOfRhodeIsland/Graduate/WBL/Project_Carehub_CareWear/DATASET/StudyData_Drive_2024_25/Concat_File/acc_P15.csv',\n",
       " '/Users/shehjarsadhu/Desktop/UniversityOfRhodeIsland/Graduate/WBL/Project_Carehub_CareWear/DATASET/StudyData_Drive_2024_25/Concat_File/acc_P14.csv',\n",
       " '/Users/shehjarsadhu/Desktop/UniversityOfRhodeIsland/Graduate/WBL/Project_Carehub_CareWear/DATASET/StudyData_Drive_2024_25/Concat_File/heart_rate_P24.csv',\n",
       " '/Users/shehjarsadhu/Desktop/UniversityOfRhodeIsland/Graduate/WBL/Project_Carehub_CareWear/DATASET/StudyData_Drive_2024_25/Concat_File/heart_rate_P18.csv',\n",
       " '/Users/shehjarsadhu/Desktop/UniversityOfRhodeIsland/Graduate/WBL/Project_Carehub_CareWear/DATASET/StudyData_Drive_2024_25/Concat_File/acc_P7.csv',\n",
       " '/Users/shehjarsadhu/Desktop/UniversityOfRhodeIsland/Graduate/WBL/Project_Carehub_CareWear/DATASET/StudyData_Drive_2024_25/Concat_File/P12_biopac.csv',\n",
       " '/Users/shehjarsadhu/Desktop/UniversityOfRhodeIsland/Graduate/WBL/Project_Carehub_CareWear/DATASET/StudyData_Drive_2024_25/Concat_File/gry_P1001.csv',\n",
       " '/Users/shehjarsadhu/Desktop/UniversityOfRhodeIsland/Graduate/WBL/Project_Carehub_CareWear/DATASET/StudyData_Drive_2024_25/Concat_File/acc_P3.csv',\n",
       " '/Users/shehjarsadhu/Desktop/UniversityOfRhodeIsland/Graduate/WBL/Project_Carehub_CareWear/DATASET/StudyData_Drive_2024_25/Concat_File/heart_rate_P20.csv',\n",
       " '/Users/shehjarsadhu/Desktop/UniversityOfRhodeIsland/Graduate/WBL/Project_Carehub_CareWear/DATASET/StudyData_Drive_2024_25/Concat_File/acc_P10.csv',\n",
       " '/Users/shehjarsadhu/Desktop/UniversityOfRhodeIsland/Graduate/WBL/Project_Carehub_CareWear/DATASET/StudyData_Drive_2024_25/Concat_File/acc_P11.csv',\n",
       " '/Users/shehjarsadhu/Desktop/UniversityOfRhodeIsland/Graduate/WBL/Project_Carehub_CareWear/DATASET/StudyData_Drive_2024_25/Concat_File/heart_rate_P21.csv',\n",
       " '/Users/shehjarsadhu/Desktop/UniversityOfRhodeIsland/Graduate/WBL/Project_Carehub_CareWear/DATASET/StudyData_Drive_2024_25/Concat_File/acc_P2.csv',\n",
       " '/Users/shehjarsadhu/Desktop/UniversityOfRhodeIsland/Graduate/WBL/Project_Carehub_CareWear/DATASET/StudyData_Drive_2024_25/Concat_File/P20_biopac.csv',\n",
       " '/Users/shehjarsadhu/Desktop/UniversityOfRhodeIsland/Graduate/WBL/Project_Carehub_CareWear/DATASET/StudyData_Drive_2024_25/Concat_File/P17_biopac.csv',\n",
       " '/Users/shehjarsadhu/Desktop/UniversityOfRhodeIsland/Graduate/WBL/Project_Carehub_CareWear/DATASET/StudyData_Drive_2024_25/Concat_File/gry_P1000.csv',\n",
       " '/Users/shehjarsadhu/Desktop/UniversityOfRhodeIsland/Graduate/WBL/Project_Carehub_CareWear/DATASET/StudyData_Drive_2024_25/Concat_File/heart_rate_P23.csv',\n",
       " '/Users/shehjarsadhu/Desktop/UniversityOfRhodeIsland/Graduate/WBL/Project_Carehub_CareWear/DATASET/StudyData_Drive_2024_25/Concat_File/acc_P13.csv',\n",
       " '/Users/shehjarsadhu/Desktop/UniversityOfRhodeIsland/Graduate/WBL/Project_Carehub_CareWear/DATASET/StudyData_Drive_2024_25/Concat_File/acc_P12.csv',\n",
       " '/Users/shehjarsadhu/Desktop/UniversityOfRhodeIsland/Graduate/WBL/Project_Carehub_CareWear/DATASET/StudyData_Drive_2024_25/Concat_File/P7_biopac.csv',\n",
       " '/Users/shehjarsadhu/Desktop/UniversityOfRhodeIsland/Graduate/WBL/Project_Carehub_CareWear/DATASET/StudyData_Drive_2024_25/Concat_File/heart_rate_P22.csv',\n",
       " '/Users/shehjarsadhu/Desktop/UniversityOfRhodeIsland/Graduate/WBL/Project_Carehub_CareWear/DATASET/StudyData_Drive_2024_25/Concat_File/acc_P1.csv',\n",
       " '/Users/shehjarsadhu/Desktop/UniversityOfRhodeIsland/Graduate/WBL/Project_Carehub_CareWear/DATASET/StudyData_Drive_2024_25/Concat_File/P9_biopac.csv',\n",
       " '/Users/shehjarsadhu/Desktop/UniversityOfRhodeIsland/Graduate/WBL/Project_Carehub_CareWear/DATASET/StudyData_Drive_2024_25/Concat_File/P14_biopac.csv',\n",
       " '/Users/shehjarsadhu/Desktop/UniversityOfRhodeIsland/Graduate/WBL/Project_Carehub_CareWear/DATASET/StudyData_Drive_2024_25/Concat_File/P23_biopac.csv',\n",
       " '/Users/shehjarsadhu/Desktop/UniversityOfRhodeIsland/Graduate/WBL/Project_Carehub_CareWear/DATASET/StudyData_Drive_2024_25/Concat_File/P10_belt.csv',\n",
       " '/Users/shehjarsadhu/Desktop/UniversityOfRhodeIsland/Graduate/WBL/Project_Carehub_CareWear/DATASET/StudyData_Drive_2024_25/Concat_File/heart_rate_P13.csv',\n",
       " '/Users/shehjarsadhu/Desktop/UniversityOfRhodeIsland/Graduate/WBL/Project_Carehub_CareWear/DATASET/StudyData_Drive_2024_25/Concat_File/P11_belt.csv',\n",
       " '/Users/shehjarsadhu/Desktop/UniversityOfRhodeIsland/Graduate/WBL/Project_Carehub_CareWear/DATASET/StudyData_Drive_2024_25/Concat_File/acc_P23.csv',\n",
       " '/Users/shehjarsadhu/Desktop/UniversityOfRhodeIsland/Graduate/WBL/Project_Carehub_CareWear/DATASET/StudyData_Drive_2024_25/Concat_File/acc_P22.csv',\n",
       " '/Users/shehjarsadhu/Desktop/UniversityOfRhodeIsland/Graduate/WBL/Project_Carehub_CareWear/DATASET/StudyData_Drive_2024_25/Concat_File/heart_rate_P12.csv',\n",
       " '/Users/shehjarsadhu/Desktop/UniversityOfRhodeIsland/Graduate/WBL/Project_Carehub_CareWear/DATASET/StudyData_Drive_2024_25/Concat_File/P19_biopac.csv',\n",
       " '/Users/shehjarsadhu/Desktop/UniversityOfRhodeIsland/Graduate/WBL/Project_Carehub_CareWear/DATASET/StudyData_Drive_2024_25/Concat_File/heart_rate_P10.csv',\n",
       " '/Users/shehjarsadhu/Desktop/UniversityOfRhodeIsland/Graduate/WBL/Project_Carehub_CareWear/DATASET/StudyData_Drive_2024_25/Concat_File/P4_biopac.csv',\n",
       " '/Users/shehjarsadhu/Desktop/UniversityOfRhodeIsland/Graduate/WBL/Project_Carehub_CareWear/DATASET/StudyData_Drive_2024_25/Concat_File/acc_P20.csv',\n",
       " '/Users/shehjarsadhu/Desktop/UniversityOfRhodeIsland/Graduate/WBL/Project_Carehub_CareWear/DATASET/StudyData_Drive_2024_25/Concat_File/acc_P21.csv',\n",
       " '/Users/shehjarsadhu/Desktop/UniversityOfRhodeIsland/Graduate/WBL/Project_Carehub_CareWear/DATASET/StudyData_Drive_2024_25/Concat_File/heart_rate_P11.csv',\n",
       " '/Users/shehjarsadhu/Desktop/UniversityOfRhodeIsland/Graduate/WBL/Project_Carehub_CareWear/DATASET/StudyData_Drive_2024_25/Concat_File/P4_belt.csv',\n",
       " '/Users/shehjarsadhu/Desktop/UniversityOfRhodeIsland/Graduate/WBL/Project_Carehub_CareWear/DATASET/StudyData_Drive_2024_25/Concat_File/P5_belt.csv',\n",
       " '/Users/shehjarsadhu/Desktop/UniversityOfRhodeIsland/Graduate/WBL/Project_Carehub_CareWear/DATASET/StudyData_Drive_2024_25/Concat_File/P1_biopac.csv',\n",
       " '/Users/shehjarsadhu/Desktop/UniversityOfRhodeIsland/Graduate/WBL/Project_Carehub_CareWear/DATASET/StudyData_Drive_2024_25/Concat_File/heart_rate_P15.csv',\n",
       " '/Users/shehjarsadhu/Desktop/UniversityOfRhodeIsland/Graduate/WBL/Project_Carehub_CareWear/DATASET/StudyData_Drive_2024_25/Concat_File/acc_P25.csv',\n",
       " '/Users/shehjarsadhu/Desktop/UniversityOfRhodeIsland/Graduate/WBL/Project_Carehub_CareWear/DATASET/StudyData_Drive_2024_25/Concat_File/acc_P19.csv',\n",
       " '/Users/shehjarsadhu/Desktop/UniversityOfRhodeIsland/Graduate/WBL/Project_Carehub_CareWear/DATASET/StudyData_Drive_2024_25/Concat_File/heart_rate_P1000.csv',\n",
       " '/Users/shehjarsadhu/Desktop/UniversityOfRhodeIsland/Graduate/WBL/Project_Carehub_CareWear/DATASET/StudyData_Drive_2024_25/Concat_File/heart_rate_P1001.csv',\n",
       " '/Users/shehjarsadhu/Desktop/UniversityOfRhodeIsland/Graduate/WBL/Project_Carehub_CareWear/DATASET/StudyData_Drive_2024_25/Concat_File/acc_P18.csv',\n",
       " '/Users/shehjarsadhu/Desktop/UniversityOfRhodeIsland/Graduate/WBL/Project_Carehub_CareWear/DATASET/StudyData_Drive_2024_25/Concat_File/acc_P24.csv',\n",
       " '/Users/shehjarsadhu/Desktop/UniversityOfRhodeIsland/Graduate/WBL/Project_Carehub_CareWear/DATASET/StudyData_Drive_2024_25/Concat_File/heart_rate_P14.csv',\n",
       " '/Users/shehjarsadhu/Desktop/UniversityOfRhodeIsland/Graduate/WBL/Project_Carehub_CareWear/DATASET/StudyData_Drive_2024_25/Concat_File/acc_P9.csv',\n",
       " '/Users/shehjarsadhu/Desktop/UniversityOfRhodeIsland/Graduate/WBL/Project_Carehub_CareWear/DATASET/StudyData_Drive_2024_25/Concat_File/heart_rate_P16.csv',\n",
       " '/Users/shehjarsadhu/Desktop/UniversityOfRhodeIsland/Graduate/WBL/Project_Carehub_CareWear/DATASET/StudyData_Drive_2024_25/Concat_File/acc_P26.csv',\n",
       " '/Users/shehjarsadhu/Desktop/UniversityOfRhodeIsland/Graduate/WBL/Project_Carehub_CareWear/DATASET/StudyData_Drive_2024_25/Concat_File/P11_biopac.csv',\n",
       " '/Users/shehjarsadhu/Desktop/UniversityOfRhodeIsland/Graduate/WBL/Project_Carehub_CareWear/DATASET/StudyData_Drive_2024_25/Concat_File/heart_rate_P17.csv',\n",
       " '/Users/shehjarsadhu/Desktop/UniversityOfRhodeIsland/Graduate/WBL/Project_Carehub_CareWear/DATASET/StudyData_Drive_2024_25/Concat_File/acc_P8.csv',\n",
       " '/Users/shehjarsadhu/Desktop/UniversityOfRhodeIsland/Graduate/WBL/Project_Carehub_CareWear/DATASET/StudyData_Drive_2024_25/Concat_File/gry_P18.csv',\n",
       " '/Users/shehjarsadhu/Desktop/UniversityOfRhodeIsland/Graduate/WBL/Project_Carehub_CareWear/DATASET/StudyData_Drive_2024_25/Concat_File/gry_P24.csv',\n",
       " '/Users/shehjarsadhu/Desktop/UniversityOfRhodeIsland/Graduate/WBL/Project_Carehub_CareWear/DATASET/StudyData_Drive_2024_25/Concat_File/gry_P6.csv',\n",
       " '/Users/shehjarsadhu/Desktop/UniversityOfRhodeIsland/Graduate/WBL/Project_Carehub_CareWear/DATASET/StudyData_Drive_2024_25/Concat_File/P21_biopac.csv',\n",
       " '/Users/shehjarsadhu/Desktop/UniversityOfRhodeIsland/Graduate/WBL/Project_Carehub_CareWear/DATASET/StudyData_Drive_2024_25/Concat_File/P16_biopac.csv',\n",
       " '/Users/shehjarsadhu/Desktop/UniversityOfRhodeIsland/Graduate/WBL/Project_Carehub_CareWear/DATASET/StudyData_Drive_2024_25/Concat_File/gry_P7.csv',\n",
       " '/Users/shehjarsadhu/Desktop/UniversityOfRhodeIsland/Graduate/WBL/Project_Carehub_CareWear/DATASET/StudyData_Drive_2024_25/Concat_File/gry_P25.csv',\n",
       " '/Users/shehjarsadhu/Desktop/UniversityOfRhodeIsland/Graduate/WBL/Project_Carehub_CareWear/DATASET/StudyData_Drive_2024_25/Concat_File/gry_P19.csv',\n",
       " '/Users/shehjarsadhu/Desktop/UniversityOfRhodeIsland/Graduate/WBL/Project_Carehub_CareWear/DATASET/StudyData_Drive_2024_25/Concat_File/gry_P4.csv',\n",
       " '/Users/shehjarsadhu/Desktop/UniversityOfRhodeIsland/Graduate/WBL/Project_Carehub_CareWear/DATASET/StudyData_Drive_2024_25/Concat_File/gry_P26.csv',\n",
       " '/Users/shehjarsadhu/Desktop/UniversityOfRhodeIsland/Graduate/WBL/Project_Carehub_CareWear/DATASET/StudyData_Drive_2024_25/Concat_File/P6_biopac.csv',\n",
       " '/Users/shehjarsadhu/Desktop/UniversityOfRhodeIsland/Graduate/WBL/Project_Carehub_CareWear/DATASET/StudyData_Drive_2024_25/Concat_File/gry_P22.csv',\n",
       " '/Users/shehjarsadhu/Desktop/UniversityOfRhodeIsland/Graduate/WBL/Project_Carehub_CareWear/DATASET/StudyData_Drive_2024_25/Concat_File/heart_rate_P8.csv',\n",
       " '/Users/shehjarsadhu/Desktop/UniversityOfRhodeIsland/Graduate/WBL/Project_Carehub_CareWear/DATASET/StudyData_Drive_2024_25/Concat_File/acc_P1000.csv',\n",
       " '/Users/shehjarsadhu/Desktop/UniversityOfRhodeIsland/Graduate/WBL/Project_Carehub_CareWear/DATASET/StudyData_Drive_2024_25/Concat_File/P17_belt.csv',\n",
       " '/Users/shehjarsadhu/Desktop/UniversityOfRhodeIsland/Graduate/WBL/Project_Carehub_CareWear/DATASET/StudyData_Drive_2024_25/Concat_File/P16_belt.csv',\n",
       " '/Users/shehjarsadhu/Desktop/UniversityOfRhodeIsland/Graduate/WBL/Project_Carehub_CareWear/DATASET/StudyData_Drive_2024_25/Concat_File/acc_P1001.csv',\n",
       " '/Users/shehjarsadhu/Desktop/UniversityOfRhodeIsland/Graduate/WBL/Project_Carehub_CareWear/DATASET/StudyData_Drive_2024_25/Concat_File/P3_biopac.csv',\n",
       " '/Users/shehjarsadhu/Desktop/UniversityOfRhodeIsland/Graduate/WBL/Project_Carehub_CareWear/DATASET/StudyData_Drive_2024_25/Concat_File/heart_rate_P9.csv',\n",
       " '/Users/shehjarsadhu/Desktop/UniversityOfRhodeIsland/Graduate/WBL/Project_Carehub_CareWear/DATASET/StudyData_Drive_2024_25/Concat_File/gry_P1.csv',\n",
       " '/Users/shehjarsadhu/Desktop/UniversityOfRhodeIsland/Graduate/WBL/Project_Carehub_CareWear/DATASET/StudyData_Drive_2024_25/Concat_File/P9_belt.csv',\n",
       " '/Users/shehjarsadhu/Desktop/UniversityOfRhodeIsland/Graduate/WBL/Project_Carehub_CareWear/DATASET/StudyData_Drive_2024_25/Concat_File/P8_belt.csv',\n",
       " '/Users/shehjarsadhu/Desktop/UniversityOfRhodeIsland/Graduate/WBL/Project_Carehub_CareWear/DATASET/StudyData_Drive_2024_25/Concat_File/gry_P23.csv',\n",
       " '/Users/shehjarsadhu/Desktop/UniversityOfRhodeIsland/Graduate/WBL/Project_Carehub_CareWear/DATASET/StudyData_Drive_2024_25/Concat_File/gry_P21.csv',\n",
       " '/Users/shehjarsadhu/Desktop/UniversityOfRhodeIsland/Graduate/WBL/Project_Carehub_CareWear/DATASET/StudyData_Drive_2024_25/Concat_File/gry_P3.csv',\n",
       " '/Users/shehjarsadhu/Desktop/UniversityOfRhodeIsland/Graduate/WBL/Project_Carehub_CareWear/DATASET/StudyData_Drive_2024_25/Concat_File/P3_belt.csv',\n",
       " '/Users/shehjarsadhu/Desktop/UniversityOfRhodeIsland/Graduate/WBL/Project_Carehub_CareWear/DATASET/StudyData_Drive_2024_25/Concat_File/P23_belt.csv',\n",
       " '/Users/shehjarsadhu/Desktop/UniversityOfRhodeIsland/Graduate/WBL/Project_Carehub_CareWear/DATASET/StudyData_Drive_2024_25/Concat_File/P22_belt.csv',\n",
       " '/Users/shehjarsadhu/Desktop/UniversityOfRhodeIsland/Graduate/WBL/Project_Carehub_CareWear/DATASET/StudyData_Drive_2024_25/Concat_File/P2_belt.csv',\n",
       " '/Users/shehjarsadhu/Desktop/UniversityOfRhodeIsland/Graduate/WBL/Project_Carehub_CareWear/DATASET/StudyData_Drive_2024_25/Concat_File/gry_P2.csv',\n",
       " '/Users/shehjarsadhu/Desktop/UniversityOfRhodeIsland/Graduate/WBL/Project_Carehub_CareWear/DATASET/StudyData_Drive_2024_25/Concat_File/gry_P20.csv',\n",
       " '/Users/shehjarsadhu/Desktop/UniversityOfRhodeIsland/Graduate/WBL/Project_Carehub_CareWear/DATASET/StudyData_Drive_2024_25/Concat_File/P13_biopac.csv']"
      ]
     },
     "execution_count": 3,
     "metadata": {},
     "output_type": "execute_result"
    }
   ],
   "source": [
    "folder_path = '/Users/shehjarsadhu/Desktop/UniversityOfRhodeIsland/Graduate/WBL/Project_Carehub_CareWear/DATASET/StudyData_Drive_2024_25/Concat_File'\n",
    "file_type = 'csv'  # Change to 'xlsx', 'json', etc., as needed.\n",
    "file_pattern = os.path.join(folder_path, f'*.{file_type}')\n",
    "files_concat = glob.glob(file_pattern)\n",
    "files_concat"
   ]
  },
  {
   "cell_type": "code",
   "execution_count": null,
   "id": "471a164c",
   "metadata": {},
   "outputs": [],
   "source": []
  },
  {
   "cell_type": "code",
   "execution_count": null,
   "id": "79577fa4",
   "metadata": {},
   "outputs": [],
   "source": []
  },
  {
   "cell_type": "code",
   "execution_count": null,
   "id": "d96e6137",
   "metadata": {},
   "outputs": [],
   "source": []
  },
  {
   "cell_type": "code",
   "execution_count": null,
   "id": "1226e4c7",
   "metadata": {},
   "outputs": [],
   "source": []
  },
  {
   "cell_type": "code",
   "execution_count": null,
   "id": "7bb49d7c",
   "metadata": {},
   "outputs": [],
   "source": []
  },
  {
   "cell_type": "code",
   "execution_count": null,
   "id": "c9b12a32",
   "metadata": {},
   "outputs": [],
   "source": []
  },
  {
   "cell_type": "code",
   "execution_count": null,
   "id": "bc680340",
   "metadata": {},
   "outputs": [],
   "source": []
  },
  {
   "cell_type": "code",
   "execution_count": 11,
   "id": "dcf96856",
   "metadata": {},
   "outputs": [
    {
     "name": "stdout",
     "output_type": "stream",
     "text": [
      "pid_to_file:  {}\n"
     ]
    }
   ],
   "source": [
    "# Function to generate the figure\n",
    "def plot_hr_raw_data(df, pid_str):\n",
    "    fig = go.Figure()\n",
    "    fig.add_trace(go.Scatter(x=df.index, y=df[\"HeartRate\"], mode=\"lines+markers\"))\n",
    "    fig.update_layout(title=f\"Heart Rate Data for {pid_str}\", xaxis_title=\"Timestamp\", yaxis_title=\"Heart Rate\")\n",
    "    return fig\n",
    "\n",
    "# def plot_hr_raw_data(df, pid_str):\n",
    "#     fig = go.Figure()\n",
    "\n",
    "#     # Create a stem plot by drawing vertical lines\n",
    "#     for x, y in zip(df.index, df[\"HeartRate\"]):\n",
    "#         fig.add_trace(go.Scatter(x=[x, x], y=[0, y], mode=\"lines\", line=dict(color='blue', width=1)))\n",
    "\n",
    "#     # Add markers on top of the stems\n",
    "#     fig.add_trace(go.Scatter(x=df.index, y=df[\"HeartRate\"], mode=\"markers\", marker=dict(color='red'), name=f\"HR Data {pid_str}\"))\n",
    "\n",
    "#     fig.update_layout(\n",
    "#         title=f\"Heart Rate Data for {pid_str}\",\n",
    "#         xaxis_title=\"Timestamp\",\n",
    "#         yaxis_title=\"Heart Rate\"\n",
    "#     )\n",
    "\n",
    "#     return fig\n",
    "\n",
    "def acc_plots(acc_df):\n",
    "    fig = go.Figure()\n",
    "    # Create and style traces\n",
    "    fig.add_trace(go.Scatter(y=acc_df.iloc[:, 1], name='Acc X',\n",
    "                             line=dict(color='red', width=4)))\n",
    "    fig.add_trace(go.Scatter(y=acc_df.iloc[:, 2], name = 'Acc Y',\n",
    "                             line=dict(color='royalblue', width=4)))\n",
    "    fig.add_trace(go.Scatter(y=acc_df.iloc[:, 3], name='Acc Z',\n",
    "                             line=dict(color='green', width=4) # dash options include 'dash', 'dot', and 'dashdot'\n",
    "    ))\n",
    "\n",
    "    # Edit the layout\n",
    "    fig.update_layout(title=\"Accelerometer Data\",\n",
    "                       xaxis_title='Number of Samples',\n",
    "                       yaxis_title='Accelerometer Value')\n",
    "    return fig\n",
    "\n",
    "# Load files and extract PIDs.\n",
    "files_concat = glob.glob(\"/Users/shehjarsadhu/Desktop/UniversityOfRhodeIsland/Graduate/WBL/Project_Carehub_CareWear/DATASET/StudyData_Drive_2024_25/Concat_File/*.csv\")  \n",
    "# Adjust the path as needed.\n",
    "pid_to_file = {\n",
    "    i.split(\"/\")[-1].split(\"_\")[-1].split(\".\")[0]: i \n",
    "    for i in files_concat if \"task_timeline_heart_rate\" in i\n",
    "}\n",
    "\n",
    "# Adjust the path as needed.\n",
    "pid_to_file_acc = {\n",
    "    i.split(\"/\")[-1].split(\"_\")[-1].split(\".\")[0]: i \n",
    "    for i in files_concat if \"acc\" in i\n",
    "}\n",
    "print(\"pid_to_file: \",pid_to_file)\n"
   ]
  },
  {
   "cell_type": "code",
   "execution_count": 12,
   "id": "b0bbdbdc",
   "metadata": {},
   "outputs": [
    {
     "name": "stdout",
     "output_type": "stream",
     "text": [
      "pid_to_file_acc json:  {'P16': '/Users/shehjarsadhu/Desktop/UniversityOfRhodeIsland/Graduate/WBL/Project_Carehub_CareWear/DATASET/StudyData_Drive_2024_25/Concat_File/acc_P16.csv', 'P17': '/Users/shehjarsadhu/Desktop/UniversityOfRhodeIsland/Graduate/WBL/Project_Carehub_CareWear/DATASET/StudyData_Drive_2024_25/Concat_File/acc_P17.csv', 'P4': '/Users/shehjarsadhu/Desktop/UniversityOfRhodeIsland/Graduate/WBL/Project_Carehub_CareWear/DATASET/StudyData_Drive_2024_25/Concat_File/acc_P4.csv', 'P6': '/Users/shehjarsadhu/Desktop/UniversityOfRhodeIsland/Graduate/WBL/Project_Carehub_CareWear/DATASET/StudyData_Drive_2024_25/Concat_File/acc_P6.csv', 'P15': '/Users/shehjarsadhu/Desktop/UniversityOfRhodeIsland/Graduate/WBL/Project_Carehub_CareWear/DATASET/StudyData_Drive_2024_25/Concat_File/acc_P15.csv', 'P14': '/Users/shehjarsadhu/Desktop/UniversityOfRhodeIsland/Graduate/WBL/Project_Carehub_CareWear/DATASET/StudyData_Drive_2024_25/Concat_File/acc_P14.csv', 'P7': '/Users/shehjarsadhu/Desktop/UniversityOfRhodeIsland/Graduate/WBL/Project_Carehub_CareWear/DATASET/StudyData_Drive_2024_25/Concat_File/acc_P7.csv', 'P3': '/Users/shehjarsadhu/Desktop/UniversityOfRhodeIsland/Graduate/WBL/Project_Carehub_CareWear/DATASET/StudyData_Drive_2024_25/Concat_File/acc_P3.csv', 'P10': '/Users/shehjarsadhu/Desktop/UniversityOfRhodeIsland/Graduate/WBL/Project_Carehub_CareWear/DATASET/StudyData_Drive_2024_25/Concat_File/acc_P10.csv', 'P11': '/Users/shehjarsadhu/Desktop/UniversityOfRhodeIsland/Graduate/WBL/Project_Carehub_CareWear/DATASET/StudyData_Drive_2024_25/Concat_File/acc_P11.csv', 'P2': '/Users/shehjarsadhu/Desktop/UniversityOfRhodeIsland/Graduate/WBL/Project_Carehub_CareWear/DATASET/StudyData_Drive_2024_25/Concat_File/acc_P2.csv', 'P13': '/Users/shehjarsadhu/Desktop/UniversityOfRhodeIsland/Graduate/WBL/Project_Carehub_CareWear/DATASET/StudyData_Drive_2024_25/Concat_File/acc_P13.csv', 'P12': '/Users/shehjarsadhu/Desktop/UniversityOfRhodeIsland/Graduate/WBL/Project_Carehub_CareWear/DATASET/StudyData_Drive_2024_25/Concat_File/acc_P12.csv', 'P1': '/Users/shehjarsadhu/Desktop/UniversityOfRhodeIsland/Graduate/WBL/Project_Carehub_CareWear/DATASET/StudyData_Drive_2024_25/Concat_File/acc_P1.csv', 'P23': '/Users/shehjarsadhu/Desktop/UniversityOfRhodeIsland/Graduate/WBL/Project_Carehub_CareWear/DATASET/StudyData_Drive_2024_25/Concat_File/acc_P23.csv', 'P22': '/Users/shehjarsadhu/Desktop/UniversityOfRhodeIsland/Graduate/WBL/Project_Carehub_CareWear/DATASET/StudyData_Drive_2024_25/Concat_File/acc_P22.csv', 'P20': '/Users/shehjarsadhu/Desktop/UniversityOfRhodeIsland/Graduate/WBL/Project_Carehub_CareWear/DATASET/StudyData_Drive_2024_25/Concat_File/acc_P20.csv', 'P21': '/Users/shehjarsadhu/Desktop/UniversityOfRhodeIsland/Graduate/WBL/Project_Carehub_CareWear/DATASET/StudyData_Drive_2024_25/Concat_File/acc_P21.csv', 'P25': '/Users/shehjarsadhu/Desktop/UniversityOfRhodeIsland/Graduate/WBL/Project_Carehub_CareWear/DATASET/StudyData_Drive_2024_25/Concat_File/acc_P25.csv', 'P19': '/Users/shehjarsadhu/Desktop/UniversityOfRhodeIsland/Graduate/WBL/Project_Carehub_CareWear/DATASET/StudyData_Drive_2024_25/Concat_File/acc_P19.csv', 'P18': '/Users/shehjarsadhu/Desktop/UniversityOfRhodeIsland/Graduate/WBL/Project_Carehub_CareWear/DATASET/StudyData_Drive_2024_25/Concat_File/acc_P18.csv', 'P24': '/Users/shehjarsadhu/Desktop/UniversityOfRhodeIsland/Graduate/WBL/Project_Carehub_CareWear/DATASET/StudyData_Drive_2024_25/Concat_File/acc_P24.csv', 'P9': '/Users/shehjarsadhu/Desktop/UniversityOfRhodeIsland/Graduate/WBL/Project_Carehub_CareWear/DATASET/StudyData_Drive_2024_25/Concat_File/acc_P9.csv', 'P26': '/Users/shehjarsadhu/Desktop/UniversityOfRhodeIsland/Graduate/WBL/Project_Carehub_CareWear/DATASET/StudyData_Drive_2024_25/Concat_File/acc_P26.csv', 'P8': '/Users/shehjarsadhu/Desktop/UniversityOfRhodeIsland/Graduate/WBL/Project_Carehub_CareWear/DATASET/StudyData_Drive_2024_25/Concat_File/acc_P8.csv', 'P1000': '/Users/shehjarsadhu/Desktop/UniversityOfRhodeIsland/Graduate/WBL/Project_Carehub_CareWear/DATASET/StudyData_Drive_2024_25/Concat_File/acc_P1000.csv', 'P1001': '/Users/shehjarsadhu/Desktop/UniversityOfRhodeIsland/Graduate/WBL/Project_Carehub_CareWear/DATASET/StudyData_Drive_2024_25/Concat_File/acc_P1001.csv'}\n"
     ]
    }
   ],
   "source": [
    "print(\"pid_to_file_acc json: \",pid_to_file_acc)"
   ]
  },
  {
   "cell_type": "code",
   "execution_count": 13,
   "id": "4fb06abf",
   "metadata": {
    "scrolled": false
   },
   "outputs": [
    {
     "ename": "ValueError",
     "evalue": "No CSV files found in the specified directory!",
     "output_type": "error",
     "traceback": [
      "\u001b[0;31m---------------------------------------------------------------------------\u001b[0m",
      "\u001b[0;31mValueError\u001b[0m                                Traceback (most recent call last)",
      "\u001b[0;32m/var/folders/d3/mwqwbw3x0b30c22zykpzcrww0000gn/T/ipykernel_9269/3049567175.py\u001b[0m in \u001b[0;36m<module>\u001b[0;34m\u001b[0m\n\u001b[1;32m      3\u001b[0m \u001b[0;31m# Ensure there's at least one file available\u001b[0m\u001b[0;34m\u001b[0m\u001b[0;34m\u001b[0m\u001b[0;34m\u001b[0m\u001b[0m\n\u001b[1;32m      4\u001b[0m \u001b[0;32mif\u001b[0m \u001b[0;32mnot\u001b[0m \u001b[0mpid_to_file\u001b[0m\u001b[0;34m:\u001b[0m\u001b[0;34m\u001b[0m\u001b[0;34m\u001b[0m\u001b[0m\n\u001b[0;32m----> 5\u001b[0;31m     \u001b[0;32mraise\u001b[0m \u001b[0mValueError\u001b[0m\u001b[0;34m(\u001b[0m\u001b[0;34m\"No CSV files found in the specified directory!\"\u001b[0m\u001b[0;34m)\u001b[0m\u001b[0;34m\u001b[0m\u001b[0;34m\u001b[0m\u001b[0m\n\u001b[0m\u001b[1;32m      6\u001b[0m \u001b[0;34m\u001b[0m\u001b[0m\n\u001b[1;32m      7\u001b[0m \u001b[0;31m# Create a dropdown menu with available PIDs\u001b[0m\u001b[0;34m\u001b[0m\u001b[0;34m\u001b[0m\u001b[0;34m\u001b[0m\u001b[0m\n",
      "\u001b[0;31mValueError\u001b[0m: No CSV files found in the specified directory!"
     ]
    }
   ],
   "source": [
    "sorted_pids = sorted(pid_to_file.keys(), key=lambda pid: int(pid[1:]))\n",
    "\n",
    "# Ensure there's at least one file available\n",
    "if not pid_to_file:\n",
    "    raise ValueError(\"No CSV files found in the specified directory!\")\n",
    "\n",
    "# Create a dropdown menu with available PIDs\n",
    "dropdown = widgets.Dropdown(\n",
    "    options=[(pid, pid) for pid in sorted_pids],\n",
    "    description=\"Select PID:\",\n",
    "    value=list(sorted_pids)[0],  # Set default selection\n",
    "    style={\"description_width\": \"initial\"},\n",
    ")\n",
    "\n",
    "# Create a button to remove zeros\n",
    "remove_zeros_button = widgets.Button(\n",
    "    description=\"Remove Zeros\",\n",
    "    button_style=\"warning\",\n",
    ")\n",
    "# Create a button to remove zeros\n",
    "remove_resample_button = widgets.Button(\n",
    "    description=\"Resample (1Hz)\",\n",
    "    button_style=\"warning\",\n",
    ")\n",
    "\n",
    "# Output widget to display the plot\n",
    "output = widgets.Output()\n",
    "\n",
    "# State variable to track whether to filter zeros\n",
    "remove_zeros = False\n",
    "interpolate_hr = False\n",
    "\n",
    "def toggle_remove_zeros(b):\n",
    "    # Toggle the button's style between 'warning' and 'success'\n",
    "    if b.button_style == \"warning\":\n",
    "        b.button_style = \"success\"  # change to green\n",
    "        global remove_zeros\n",
    "        remove_zeros = not remove_zeros\n",
    "    else:\n",
    "        b.button_style = \"warning\"  # Change back to warning\n",
    "        update_plot({\"new\": dropdown.value})\n",
    "\n",
    "def toggle_resample_hr(b):\n",
    "    global interpolate_hr\n",
    "    interpolate_hr = not interpolate_hr\n",
    "    update_plot({\"new\": dropdown.value})\n",
    "    \n",
    "# Attach the button click event\n",
    "remove_zeros_button.on_click(toggle_remove_zeros)\n",
    "remove_resample_button.on_click(toggle_resample_hr)\n",
    "\n",
    "# Function to update the plot based on selection\n",
    "def update_plot(change):\n",
    "    output.clear_output(wait=True)\n",
    "    selected_pid = change[\"new\"]\n",
    "\n",
    "    if selected_pid:\n",
    "        df = pd.read_csv(pid_to_file[selected_pid])\n",
    "#         df_acc = pd.read_csv(pid_to_file_acc[selected_pid],low_memory=False)\n",
    "\n",
    "        # Sort the DataFrame by the 'time' column.\n",
    "        df_sorted = df.sort_values(by='Timestamp_pd')\n",
    "        df_reindexed = df_sorted.reset_index(drop=True)\n",
    "\n",
    "        df_reindexed[\"HeartRate\"] = pd.to_numeric(df_reindexed[\"HeartRate\"], errors=\"coerce\")\n",
    "\n",
    "        # Apply zero filter if the toggle is active\n",
    "        if remove_zeros:\n",
    "            df_reindexed = df_reindexed[df_reindexed[\"HeartRate\"] != 0]\n",
    "\n",
    "        fig = plot_hr_raw_data(df_reindexed, selected_pid)\n",
    "\n",
    "        fig.update_layout(\n",
    "            xaxis=dict(\n",
    "                title=\"Number of samples\",\n",
    "                showline=True,\n",
    "                linecolor='black',\n",
    "                linewidth=2,\n",
    "            ),\n",
    "            yaxis=dict(\n",
    "                title=\"Heart Rate (bpm)\",\n",
    "                showline=True,\n",
    "                linecolor='black',\n",
    "                linewidth=2,\n",
    "            ),\n",
    "            title={\n",
    "                'text': \"Smart watch HR data in bpm\",\n",
    "                'x': 0.5,\n",
    "                'xanchor': 'center',\n",
    "                'y': 0.95,\n",
    "                'yanchor': 'top',\n",
    "                'pad': {'b': 10},\n",
    "            }\n",
    "        )\n",
    "        fig2 = go.Figure() # temporary figure 2.\n",
    "\n",
    "#         fig2 = acc_plots(df_acc) #plot_hr_raw_data(df_reindexed, selected_pid)\n",
    "\n",
    "#         fig2.update_layout(\n",
    "#             xaxis=dict(\n",
    "#                 title=\"Time in seconds\",\n",
    "#                 showline=True,\n",
    "#                 linecolor='black',\n",
    "#                 linewidth=2,\n",
    "#             ),\n",
    "#             yaxis=dict(\n",
    "#                 title=\"Heart Rate (bpm)\",\n",
    "#                 showline=True,\n",
    "#                 linecolor='black',\n",
    "#                 linewidth=2,\n",
    "#             ),\n",
    "#             title={\n",
    "#                 'text': \"Smart watch HR data in bpm\",\n",
    "#                 'x': 0.5,\n",
    "#                 'xanchor': 'center',\n",
    "#                 'y': 0.95,\n",
    "#                 'yanchor': 'top',\n",
    "#                 'pad': {'b': 10},\n",
    "#             }\n",
    "#         )\n",
    "        # Create a subplot figure with 1 row and 2 columns\n",
    "        combined_fig = make_subplots(rows=1, cols=2, subplot_titles=(\"Smartwatch HR data in bpm\", \n",
    "                                                                     \"Smartwatch Acc data in m/s^2\"))\n",
    "\n",
    "        # Add traces from fig1 to the left subplot (col=1)\n",
    "        for trace in fig.data:\n",
    "            combined_fig.add_trace(trace, row=1, col=1)\n",
    "\n",
    "        # Add traces from fig2 to the right subplot (col=2)\n",
    "        for trace in fig2.data:\n",
    "            combined_fig.add_trace(trace, row=1, col=2)\n",
    "        # Update layout of the combined figure\n",
    "        combined_fig.update_layout(\n",
    "#             title_text=\"Side by Side Plots\",\n",
    "            showlegend=False,\n",
    "            xaxis1=dict(\n",
    "                title=\"Time in seconds\",\n",
    "                showline=True,\n",
    "                linecolor=\"black\",\n",
    "                linewidth=2,\n",
    "            ),\n",
    "            yaxis1=dict(\n",
    "                title=\"Heart Rate (bpm)\",\n",
    "                showline=True,\n",
    "                linecolor=\"black\",\n",
    "                linewidth=2,\n",
    "            ),\n",
    "            xaxis2=dict(\n",
    "                title=\"Time in seconds\",\n",
    "                showline=True,\n",
    "                linecolor=\"black\",\n",
    "                linewidth=2,\n",
    "            ),\n",
    "            yaxis2=dict(\n",
    "                title=\"Heart Rate (bpm)\",\n",
    "                showline=True,\n",
    "                linecolor=\"black\",\n",
    "                linewidth=2,\n",
    "            ),\n",
    "        )\n",
    "        \n",
    "        with output:\n",
    "            display(combined_fig)\n",
    "\n",
    "# Attach callback function to dropdown\n",
    "dropdown.observe(update_plot, names=\"value\")\n",
    "\n",
    "# Display widgets\n",
    "display(dropdown, remove_zeros_button, remove_resample_button, output)\n",
    "\n",
    "# Trigger the initial plot manually\n",
    "update_plot({\"new\": dropdown.value})\n"
   ]
  },
  {
   "cell_type": "code",
   "execution_count": null,
   "id": "d24cbd38",
   "metadata": {},
   "outputs": [],
   "source": []
  },
  {
   "cell_type": "code",
   "execution_count": null,
   "id": "04b46614",
   "metadata": {},
   "outputs": [],
   "source": []
  },
  {
   "cell_type": "code",
   "execution_count": null,
   "id": "b100ee9d",
   "metadata": {},
   "outputs": [],
   "source": []
  },
  {
   "cell_type": "code",
   "execution_count": null,
   "id": "2b04a548",
   "metadata": {},
   "outputs": [],
   "source": []
  },
  {
   "cell_type": "code",
   "execution_count": null,
   "id": "5f6f326d",
   "metadata": {},
   "outputs": [],
   "source": []
  },
  {
   "cell_type": "code",
   "execution_count": null,
   "id": "cba18570",
   "metadata": {},
   "outputs": [],
   "source": []
  },
  {
   "cell_type": "markdown",
   "id": "41ff1e9a",
   "metadata": {},
   "source": []
  },
  {
   "cell_type": "code",
   "execution_count": null,
   "id": "656c5286",
   "metadata": {
    "scrolled": true
   },
   "outputs": [],
   "source": []
  },
  {
   "cell_type": "code",
   "execution_count": null,
   "id": "b40aefa2",
   "metadata": {},
   "outputs": [],
   "source": []
  },
  {
   "cell_type": "code",
   "execution_count": null,
   "id": "f6157c07",
   "metadata": {},
   "outputs": [],
   "source": []
  },
  {
   "cell_type": "code",
   "execution_count": null,
   "id": "d104bfa2",
   "metadata": {},
   "outputs": [],
   "source": []
  },
  {
   "cell_type": "markdown",
   "id": "0e8651a7",
   "metadata": {},
   "source": [
    "## Grouped HR averages"
   ]
  },
  {
   "cell_type": "code",
   "execution_count": 14,
   "id": "77bb7bae",
   "metadata": {},
   "outputs": [],
   "source": [
    "# Function to calculate RMSSD safely\n",
    "def calculate_rmssd(hr_bpm):\n",
    "    # Drop NaN values\n",
    "    hr_bpm = hr_bpm.dropna()\n",
    "    \n",
    "    # Convert HR (bpm) to RR intervals (ms)\n",
    "    if len(hr_bpm) < 2:  # Avoid division by zero for empty groups\n",
    "        return np.nan\n",
    "\n",
    "    rr_intervals = [60000 / hr for hr in hr_bpm if hr > 0]  # Avoid division by zero\n",
    "    \n",
    "    if len(rr_intervals) < 2:  # RMSSD requires at least two RR intervals\n",
    "        return np.nan\n",
    "\n",
    "    diff_rr = np.diff(rr_intervals)  # Compute successive differences\n",
    "    squared_diff = diff_rr ** 2  # Square the differences\n",
    "    return np.sqrt(np.mean(squared_diff))  # Compute RMSSD"
   ]
  },
  {
   "cell_type": "code",
   "execution_count": 15,
   "id": "c70c8ae6",
   "metadata": {},
   "outputs": [],
   "source": [
    "\n",
    "# Function to compute HRV metrics\n",
    "def compute_hrv(hr_bpm):\n",
    "    hr_bpm = hr_bpm.dropna()  # Remove NaN values\n",
    "    \n",
    "    if len(hr_bpm) < 2:  # Ensure at least two data points\n",
    "        return pd.Series({'RMSSD': np.nan, 'SDNN': np.nan, 'pNN50': np.nan})\n",
    "    \n",
    "    # Convert HR (bpm) to RR intervals (ms)\n",
    "    rr_intervals = [60000 / hr for hr in hr_bpm if hr > 0]  # Avoid division by zero\n",
    "    \n",
    "    if len(rr_intervals) < 2:\n",
    "        return pd.Series({'RMSSD': np.nan, 'SDNN': np.nan, 'pNN50': np.nan})\n",
    "\n",
    "    # Compute successive differences\n",
    "    diff_rr = np.diff(rr_intervals)\n",
    "    \n",
    "    # RMSSD\n",
    "    rmssd = np.sqrt(np.mean(diff_rr ** 2))\n",
    "    \n",
    "    # SDNN\n",
    "    sdnn = np.std(rr_intervals, ddof=1)  # Sample standard deviation\n",
    "    \n",
    "    # pNN50\n",
    "    nn50 = np.sum(np.abs(diff_rr) > 50)  # Count of RR interval differences > 50ms\n",
    "    pnn50 = (nn50 / len(diff_rr)) * 100  # Percentage\n",
    "\n",
    "    return pd.Series({'RMSSD': rmssd, 'SDNN': sdnn, 'pNN50': pnn50})\n"
   ]
  },
  {
   "cell_type": "code",
   "execution_count": 16,
   "id": "3439a015",
   "metadata": {},
   "outputs": [],
   "source": [
    "\n",
    "# # Example HR data in bpm (5 minutes of data at ~1 Hz sampling)\n",
    "# heart_rate_data = [72, 75, 73, 70, 74, 76, 77, 72, 71, 69]\n",
    "# rmssd_value = calculate_rmssd(heart_rate_data)\n",
    "\n",
    "# print(f\"RMSSD: {rmssd_value:.2f} ms\")\n"
   ]
  },
  {
   "cell_type": "code",
   "execution_count": null,
   "id": "8571eeb2",
   "metadata": {},
   "outputs": [],
   "source": []
  },
  {
   "cell_type": "code",
   "execution_count": 17,
   "id": "40d0b7c3",
   "metadata": {
    "scrolled": true
   },
   "outputs": [
    {
     "name": "stderr",
     "output_type": "stream",
     "text": [
      "/Users/shehjarsadhu/opt/anaconda3/envs/carehub/lib/python3.7/site-packages/ipykernel_launcher.py:14: SettingWithCopyWarning: \n",
      "A value is trying to be set on a copy of a slice from a DataFrame.\n",
      "Try using .loc[row_indexer,col_indexer] = value instead\n",
      "\n",
      "See the caveats in the documentation: https://pandas.pydata.org/pandas-docs/stable/user_guide/indexing.html#returning-a-view-versus-a-copy\n",
      "  \n"
     ]
    },
    {
     "name": "stdout",
     "output_type": "stream",
     "text": [
      "Warning: 1 invalid heart rate values converted to NaN\n",
      "Unexpected error: name 'resample_by_activity' is not defined\n",
      "Filename with error for SMARTWATCH FLOAT VALUE CONVERSION heart_rate_P7.csv\n",
      "Warning: 20 invalid heart rate values converted to NaN\n",
      "Unexpected error: name 'resample_by_activity' is not defined\n",
      "Filename with error for SMARTWATCH FLOAT VALUE CONVERSION heart_rate_P6.csv\n",
      "Warning: 9 invalid heart rate values converted to NaN\n",
      "Unexpected error: name 'resample_by_activity' is not defined\n",
      "Filename with error for SMARTWATCH FLOAT VALUE CONVERSION heart_rate_P4.csv\n",
      "BIOPAC filename /Users/shehjarsadhu/Desktop/UniversityOfRhodeIsland/Graduate/WBL/Project_Carehub_CareWear/DATASET/StudyData_Drive_2024_25/Concat_File/P10_biopac.csv\n",
      "Warning: 3 invalid heart rate values converted to NaN\n",
      "Unexpected error: name 'resample_by_activity' is not defined\n",
      "Filename with error for SMARTWATCH FLOAT VALUE CONVERSION heart_rate_P1.csv\n",
      "BIOPAC filename /Users/shehjarsadhu/Desktop/UniversityOfRhodeIsland/Graduate/WBL/Project_Carehub_CareWear/DATASET/StudyData_Drive_2024_25/Concat_File/P8_biopac.csv\n",
      "BIOPAC filename /Users/shehjarsadhu/Desktop/UniversityOfRhodeIsland/Graduate/WBL/Project_Carehub_CareWear/DATASET/StudyData_Drive_2024_25/Concat_File/P22_biopac.csv\n",
      "BIOPAC filename /Users/shehjarsadhu/Desktop/UniversityOfRhodeIsland/Graduate/WBL/Project_Carehub_CareWear/DATASET/StudyData_Drive_2024_25/Concat_File/P18_biopac.csv\n",
      "BIOPAC filename /Users/shehjarsadhu/Desktop/UniversityOfRhodeIsland/Graduate/WBL/Project_Carehub_CareWear/DATASET/StudyData_Drive_2024_25/Concat_File/P5_biopac.csv\n",
      "Warning: 2 invalid heart rate values converted to NaN\n",
      "Unexpected error: name 'resample_by_activity' is not defined\n",
      "Filename with error for SMARTWATCH FLOAT VALUE CONVERSION heart_rate_P2.csv\n",
      "Unexpected error: name 'resample_by_activity' is not defined\n",
      "Filename with error for SMARTWATCH FLOAT VALUE CONVERSION heart_rate_P3.csv\n",
      "Unexpected error: name 'resample_by_activity' is not defined\n",
      "Filename with error for SMARTWATCH FLOAT VALUE CONVERSION heart_rate_P26.csv\n",
      "BIOPAC filename /Users/shehjarsadhu/Desktop/UniversityOfRhodeIsland/Graduate/WBL/Project_Carehub_CareWear/DATASET/StudyData_Drive_2024_25/Concat_File/P2_biopac.csv\n",
      "Unexpected error: name 'resample_by_activity' is not defined\n",
      "Filename with error for SMARTWATCH FLOAT VALUE CONVERSION heart_rate_P19.csv\n",
      "Unexpected error: name 'resample_by_activity' is not defined\n",
      "Filename with error for SMARTWATCH FLOAT VALUE CONVERSION heart_rate_P25.csv\n",
      "Unexpected error: name 'resample_by_activity' is not defined\n",
      "Filename with error for SMARTWATCH FLOAT VALUE CONVERSION heart_rate_P24.csv\n",
      "Unexpected error: name 'resample_by_activity' is not defined\n",
      "Filename with error for SMARTWATCH FLOAT VALUE CONVERSION heart_rate_P18.csv\n",
      "BIOPAC filename /Users/shehjarsadhu/Desktop/UniversityOfRhodeIsland/Graduate/WBL/Project_Carehub_CareWear/DATASET/StudyData_Drive_2024_25/Concat_File/P12_biopac.csv\n",
      "Unexpected error: name 'resample_by_activity' is not defined\n",
      "Filename with error for SMARTWATCH FLOAT VALUE CONVERSION heart_rate_P20.csv\n",
      "Unexpected error: name 'resample_by_activity' is not defined\n",
      "Filename with error for SMARTWATCH FLOAT VALUE CONVERSION heart_rate_P21.csv\n",
      "BIOPAC filename /Users/shehjarsadhu/Desktop/UniversityOfRhodeIsland/Graduate/WBL/Project_Carehub_CareWear/DATASET/StudyData_Drive_2024_25/Concat_File/P20_biopac.csv\n",
      "BIOPAC filename /Users/shehjarsadhu/Desktop/UniversityOfRhodeIsland/Graduate/WBL/Project_Carehub_CareWear/DATASET/StudyData_Drive_2024_25/Concat_File/P17_biopac.csv\n",
      "Unexpected error: name 'resample_by_activity' is not defined\n",
      "Filename with error for SMARTWATCH FLOAT VALUE CONVERSION heart_rate_P23.csv\n",
      "BIOPAC filename /Users/shehjarsadhu/Desktop/UniversityOfRhodeIsland/Graduate/WBL/Project_Carehub_CareWear/DATASET/StudyData_Drive_2024_25/Concat_File/P7_biopac.csv\n",
      "Unexpected error: name 'resample_by_activity' is not defined\n",
      "Filename with error for SMARTWATCH FLOAT VALUE CONVERSION heart_rate_P22.csv\n",
      "BIOPAC filename /Users/shehjarsadhu/Desktop/UniversityOfRhodeIsland/Graduate/WBL/Project_Carehub_CareWear/DATASET/StudyData_Drive_2024_25/Concat_File/P9_biopac.csv\n",
      "BIOPAC filename /Users/shehjarsadhu/Desktop/UniversityOfRhodeIsland/Graduate/WBL/Project_Carehub_CareWear/DATASET/StudyData_Drive_2024_25/Concat_File/P14_biopac.csv\n",
      "BIOPAC filename /Users/shehjarsadhu/Desktop/UniversityOfRhodeIsland/Graduate/WBL/Project_Carehub_CareWear/DATASET/StudyData_Drive_2024_25/Concat_File/P23_biopac.csv\n",
      "Unexpected error: name 'resample_by_activity' is not defined\n",
      "Filename with error for SMARTWATCH FLOAT VALUE CONVERSION heart_rate_P13.csv\n",
      "Unexpected error: name 'resample_by_activity' is not defined\n",
      "Filename with error for SMARTWATCH FLOAT VALUE CONVERSION heart_rate_P12.csv\n",
      "BIOPAC filename /Users/shehjarsadhu/Desktop/UniversityOfRhodeIsland/Graduate/WBL/Project_Carehub_CareWear/DATASET/StudyData_Drive_2024_25/Concat_File/P19_biopac.csv\n",
      "Warning: 2 invalid heart rate values converted to NaN\n",
      "Unexpected error: name 'resample_by_activity' is not defined\n",
      "Filename with error for SMARTWATCH FLOAT VALUE CONVERSION heart_rate_P10.csv\n",
      "BIOPAC filename /Users/shehjarsadhu/Desktop/UniversityOfRhodeIsland/Graduate/WBL/Project_Carehub_CareWear/DATASET/StudyData_Drive_2024_25/Concat_File/P4_biopac.csv\n",
      "Warning: 1 invalid heart rate values converted to NaN\n",
      "Unexpected error: name 'resample_by_activity' is not defined\n",
      "Filename with error for SMARTWATCH FLOAT VALUE CONVERSION heart_rate_P11.csv\n",
      "BIOPAC filename /Users/shehjarsadhu/Desktop/UniversityOfRhodeIsland/Graduate/WBL/Project_Carehub_CareWear/DATASET/StudyData_Drive_2024_25/Concat_File/P1_biopac.csv\n",
      "Unexpected error: name 'resample_by_activity' is not defined\n",
      "Filename with error for SMARTWATCH FLOAT VALUE CONVERSION heart_rate_P15.csv\n",
      "Unexpected error: name 'resample_by_activity' is not defined\n",
      "Filename with error for SMARTWATCH FLOAT VALUE CONVERSION heart_rate_P1000.csv\n",
      "Unexpected error: name 'resample_by_activity' is not defined\n",
      "Filename with error for SMARTWATCH FLOAT VALUE CONVERSION heart_rate_P1001.csv\n",
      "Unexpected error: name 'resample_by_activity' is not defined\n",
      "Filename with error for SMARTWATCH FLOAT VALUE CONVERSION heart_rate_P14.csv\n",
      "Unexpected error: name 'resample_by_activity' is not defined\n",
      "Filename with error for SMARTWATCH FLOAT VALUE CONVERSION heart_rate_P16.csv\n",
      "BIOPAC filename /Users/shehjarsadhu/Desktop/UniversityOfRhodeIsland/Graduate/WBL/Project_Carehub_CareWear/DATASET/StudyData_Drive_2024_25/Concat_File/P11_biopac.csv\n",
      "Unexpected error: name 'resample_by_activity' is not defined\n",
      "Filename with error for SMARTWATCH FLOAT VALUE CONVERSION heart_rate_P17.csv\n",
      "BIOPAC filename /Users/shehjarsadhu/Desktop/UniversityOfRhodeIsland/Graduate/WBL/Project_Carehub_CareWear/DATASET/StudyData_Drive_2024_25/Concat_File/P21_biopac.csv\n",
      "BIOPAC filename /Users/shehjarsadhu/Desktop/UniversityOfRhodeIsland/Graduate/WBL/Project_Carehub_CareWear/DATASET/StudyData_Drive_2024_25/Concat_File/P16_biopac.csv\n",
      "BIOPAC filename /Users/shehjarsadhu/Desktop/UniversityOfRhodeIsland/Graduate/WBL/Project_Carehub_CareWear/DATASET/StudyData_Drive_2024_25/Concat_File/P6_biopac.csv\n",
      "Warning: 1 invalid heart rate values converted to NaN\n",
      "Unexpected error: name 'resample_by_activity' is not defined\n",
      "Filename with error for SMARTWATCH FLOAT VALUE CONVERSION heart_rate_P8.csv\n",
      "BIOPAC filename /Users/shehjarsadhu/Desktop/UniversityOfRhodeIsland/Graduate/WBL/Project_Carehub_CareWear/DATASET/StudyData_Drive_2024_25/Concat_File/P3_biopac.csv\n",
      "Unexpected error: name 'resample_by_activity' is not defined\n",
      "Filename with error for SMARTWATCH FLOAT VALUE CONVERSION heart_rate_P9.csv\n",
      "BIOPAC filename /Users/shehjarsadhu/Desktop/UniversityOfRhodeIsland/Graduate/WBL/Project_Carehub_CareWear/DATASET/StudyData_Drive_2024_25/Concat_File/P13_biopac.csv\n"
     ]
    }
   ],
   "source": [
    "# Create list of lists for pandas df. Each device and variable will have it's own list.\n",
    "df_grouped_avg_list = [] # smartwatch\n",
    "df_grouped_avg_biopac_list = [] # biopac\n",
    "df_smartwatch_list_rmssd = []\n",
    "df_biopac_list_rmssd = []\n",
    "for sm_heart_rate in files_concat:\n",
    "    if \"heart_rate\" in sm_heart_rate:\n",
    "        df_sm_heart_rate = pd.read_csv(sm_heart_rate)\n",
    "        cols = ['Stationary_Bike_Legs' , 'Rest_3' ,'Rest_1', 'Rest_2',\n",
    "                'Give_Speech' , 'Prepare_Speech' ,'Stationary_Bike_Hand', 'Mental_Math']\n",
    "        subset_df = df_sm_heart_rate[df_sm_heart_rate[\"activity\"].isin(cols)]\n",
    "        try:\n",
    "            # Convert to float, setting errors='coerce' to replace errors with NaN\n",
    "            subset_df['HeartRate_float_smartwatch'] = pd.to_numeric(subset_df['HeartRate'], errors='coerce')\n",
    "            # Log how many problematic values were found\n",
    "            num_invalid = subset_df['HeartRate_float_smartwatch'].isna().sum()\n",
    "            if num_invalid > 0:\n",
    "                print(f\"Warning: {num_invalid} invalid heart rate values converted to NaN\")\n",
    "            #print(\"RESAMPLING ====================================================\")\n",
    "            # Drop NaN values before resampling (or you can impute if preferred)\n",
    "            cleaned_df = subset_df.dropna(subset=['HeartRate_float_smartwatch'])\n",
    "            resampled_df = resample_by_activity(cleaned_df, \"HeartRate_float_smartwatch\")\n",
    "            #print(resampled_df.columns)\n",
    "            #print(resampled_df[\"activity\"].unique())\n",
    "            #print(resampled_df.head())\n",
    "           # print(\"resampled_df shape: \\n\", resampled_df.shape)\n",
    "            print(\"========================================================================================\")\n",
    "        except Exception as e:\n",
    "            print(f\"Unexpected error: {e}\")\n",
    "            print(\"Filename with error for SMARTWATCH FLOAT VALUE CONVERSION\",sm_heart_rate.split(\"/\")[-1])\n",
    "\n",
    "        try:\n",
    "            # Apply RMSSD calculation grouped by 'subject'\n",
    "            rmssd_results = subset_df.groupby('activity')['HeartRate_float_smartwatch'].apply(calculate_rmssd)\n",
    "            # Convert to DataFrame if needed\n",
    "            rmssd_df = rmssd_results.reset_index(name='RMSSD')\n",
    "            rmssd_df[\"device\"] =\"smartwatch\"\n",
    "            rmssd_df[\"pid\"] = sm_heart_rate.split(\"/\")[-1].split(\"_\")[-1].split(\".\")[0]\n",
    "            #print(\"========================================================================================\")\n",
    "            #print(\"rmssd_df: \",rmssd_df)\n",
    "            df_smartwatch_list_rmssd.append(rmssd_df)\n",
    "        except ZeroDivisionError:\n",
    "            print(\"ZeroDivisionError for RMSSD SMARTWATCH\")\n",
    "            print(\"File NAME with error for RMSSD\",sm_heart_rate.split(\"/\")[-1])\n",
    "        grouped_avg = subset_df.groupby(\"activity\")[\"HeartRate_float_smartwatch\"].mean()\n",
    "        df_grouped_avg = grouped_avg.to_frame()\n",
    "        df_grouped_avg[\"activity\"] = grouped_avg.index\n",
    "        pid = sm_heart_rate.split(\"/\")[-1].split(\"_\")[-1].split(\".\")[0]\n",
    "        df_grouped_avg[\"pid\"] = pid\n",
    "        df_grouped_avg_list.append(df_grouped_avg)\n",
    "    if \"biopac\" in sm_heart_rate:\n",
    "        print(\"BIOPAC filename\",sm_heart_rate)\n",
    "        df_biopac = pd.read_csv(sm_heart_rate)\n",
    "        #print(\"BIOPAC: original file unique activities: \",df_biopac[\"activity\"].unique())\n",
    "      \n",
    "       # print(\"==================================== Calculating Averages ====================================\")\n",
    "        #print(\"BIOPAC PARTICIPANT ID: \", sm_heart_rate.split(\"/\")[-1].split(\"_\")[0])\n",
    "        #print(\"BIOPAC: Unique activities present in Biopac\",df_biopac[\"activity\"].unique())\n",
    "        df_biopac['HeartRate_float_biopac'] = df_biopac['Heart_Rate'].astype(float)\n",
    "        grouped_avg_biopac = df_biopac.groupby(\"activity\")[\"HeartRate_float_biopac\"].mean()\n",
    "        #print(\"BIOPAC grouped_avg_biopac: \",grouped_avg_biopac)\n",
    "        df_grouped_avg_biopac = grouped_avg_biopac.to_frame()\n",
    "        df_grouped_avg_biopac[\"activity\"] = grouped_avg_biopac.index\n",
    "        pid = sm_heart_rate.split(\"/\")[-1].split(\"_\")[0]\n",
    "        df_grouped_avg_biopac[\"pid\"] = pid\n",
    "        #print(\"BIOPAC grouped_avg_biopac:\",df_grouped_avg_biopac)\n",
    "        df_grouped_avg_biopac_list.append(df_grouped_avg_biopac)\n",
    "#             ## ========================================================================================================================\n",
    "        try:\n",
    "            # Apply RMSSD calculation grouped by 'subject'\n",
    "            rmssd_results = df_biopac.groupby('activity')['HeartRate_float_biopac'].apply(calculate_rmssd)\n",
    "            # Convert to DataFrame if needed\n",
    "            rmssd_df_biopac = rmssd_results.reset_index(name='RMSSD')\n",
    "            rmssd_df_biopac[\"device\"] =\"biopac\"\n",
    "            pid = sm_heart_rate.split(\"/\")[-1].split(\"_\")[0]\n",
    "            rmssd_df_biopac[\"pid\"] = pid\n",
    "            #print(\"========================================================================================\")\n",
    "            #print(\"rmssd_df biopac: \",rmssd_df_biopac)\n",
    "            df_biopac_list_rmssd.append(rmssd_df_biopac)\n",
    "        except ZeroDivisionError:\n",
    "            print(\"ZeroDivisionError for RMSSD biopac\")\n",
    "        "
   ]
  },
  {
   "cell_type": "code",
   "execution_count": null,
   "id": "393303a6",
   "metadata": {},
   "outputs": [],
   "source": [
    "# Define mapping dictionary\n",
    "activity_mapping = {\n",
    "    'give speech': 'Give_Speech',\n",
    "    'mental math': 'Mental_Math',\n",
    "    'prepare speech': 'Prepare_Speech',\n",
    "    'rest1': 'Rest_1',\n",
    "    'rest2': 'Rest_2',\n",
    "    'rest3': 'Rest_3',\n",
    "    'stationary Bike1': 'Bike_Legs',\n",
    "    'stationary Bike2': 'Bike_Hands'\n",
    "}\n",
    "\n",
    "# Apply mapping to the 'activity' column\n",
    "df_biopac_rmssd = pd.concat(df_biopac_list_rmssd,ignore_index=True)\n",
    "df_smartwatch_rmssd = pd.concat(df_smartwatch_list_rmssd,ignore_index=True)\n",
    "\n",
    "# Apply mapping to the 'activity' column\n",
    "df_biopac_rmssd['activity'] = df_biopac_rmssd['activity'].replace(activity_mapping)\n"
   ]
  },
  {
   "cell_type": "code",
   "execution_count": null,
   "id": "c3305b0d",
   "metadata": {},
   "outputs": [],
   "source": [
    "# Define mapping dictionary\n",
    "activity_mapping = {\n",
    "    'Rest_1':\"Rest_1\",\n",
    "    'Prepare_Speech':\"Prepare_Speech\",\n",
    "    'Give_Speech':\"Give_Speech\",\n",
    "    'Rest_2':\"Rest_2\", \n",
    "    'Mental_Math':\"Mental_Math\",\n",
    "    'Rest_3':\"Rest_3\",\n",
    "    'Stationary_Bike_Legs':\"Bike_Legs\",\n",
    "    'Stationary_Bike_Hand':\"Bike_Hands\"\n",
    "}\n",
    "\n",
    "# Apply mapping to the 'activity' column\n",
    "df_smartwatch_rmssd['activity'] = df_smartwatch_rmssd['activity'].replace(activity_mapping)\n"
   ]
  },
  {
   "cell_type": "code",
   "execution_count": null,
   "id": "cc8c68a9",
   "metadata": {},
   "outputs": [],
   "source": [
    "df_biopac_rmssd[\"activity\"].value_counts()"
   ]
  },
  {
   "cell_type": "code",
   "execution_count": null,
   "id": "8a7225cd",
   "metadata": {},
   "outputs": [],
   "source": []
  },
  {
   "cell_type": "code",
   "execution_count": null,
   "id": "5b26432b",
   "metadata": {},
   "outputs": [],
   "source": []
  },
  {
   "cell_type": "code",
   "execution_count": null,
   "id": "9ffa6408",
   "metadata": {},
   "outputs": [],
   "source": [
    "\n",
    "df_final = pd.concat(df_grouped_avg_list,ignore_index=True)\n",
    "# Define mapping dictionary\n",
    "activity_mapping = {\n",
    "    'Rest_1':\"Rest_1\",\n",
    "    'Prepare_Speech':\"Prepare_Speech\",\n",
    "    'Give_Speech':\"Give_Speech\",\n",
    "    'Rest_2':\"Rest_2\", \n",
    "    'Mental_Math':\"Mental_Math\",\n",
    "    'Rest_3':\"Rest_3\",\n",
    "    'Stationary_Bike_Legs':\"Bike_Legs\",\n",
    "    'Stationary_Bike_Hand':\"Bike_Hands\"\n",
    "}\n",
    "\n",
    "# Apply mapping to the 'activity' column\n",
    "df_final['activity'] = df_final['activity'].replace(activity_mapping)\n",
    "print(df_final[\"activity\"].value_counts())"
   ]
  },
  {
   "cell_type": "code",
   "execution_count": null,
   "id": "5b81ba9e",
   "metadata": {},
   "outputs": [],
   "source": [
    "df_grouped_avg_biopac_list"
   ]
  },
  {
   "cell_type": "code",
   "execution_count": null,
   "id": "28d63ca5",
   "metadata": {},
   "outputs": [],
   "source": [
    "\n",
    "df_final_biopac = pd.concat(df_grouped_avg_biopac_list,ignore_index=True)\n",
    "print(df_final_biopac[\"activity\"].value_counts())"
   ]
  },
  {
   "cell_type": "code",
   "execution_count": null,
   "id": "ecfd5e54",
   "metadata": {},
   "outputs": [],
   "source": [
    "# Define mapping dictionary\n",
    "activity_mapping = {\n",
    "    'give speech': 'Give_Speech',\n",
    "    'mental math': 'Mental_Math',\n",
    "    'prepare speech': 'Prepare_Speech',\n",
    "    'rest1': 'Rest_1',\n",
    "    'rest2': 'Rest_2',\n",
    "    'rest3': 'Rest_3',\n",
    "    'stationary Bike1': 'Bike_Legs',\n",
    "    'stationary Bike2': 'Bike_Hands'\n",
    "}\n",
    "\n",
    "# Apply mapping to the 'activity' column\n",
    "df_final_biopac['activity'] = df_final_biopac['activity'].replace(activity_mapping)"
   ]
  },
  {
   "cell_type": "code",
   "execution_count": null,
   "id": "2f59e651",
   "metadata": {
    "scrolled": false
   },
   "outputs": [],
   "source": [
    "df_final_biopac.head()\n",
    "print(df_final_biopac[\"activity\"].value_counts())\n"
   ]
  },
  {
   "cell_type": "code",
   "execution_count": null,
   "id": "05ebeacf",
   "metadata": {},
   "outputs": [],
   "source": [
    "#df_final_biopac.to_csv(\"~/Desktop/biopac_average_hr.csv\")"
   ]
  },
  {
   "cell_type": "code",
   "execution_count": null,
   "id": "55549575",
   "metadata": {},
   "outputs": [],
   "source": [
    "df_final_biopac[\"pid\"].unique()"
   ]
  },
  {
   "cell_type": "code",
   "execution_count": null,
   "id": "ff27f925",
   "metadata": {},
   "outputs": [],
   "source": [
    "df_final_biopac[\"pid\"].unique()"
   ]
  },
  {
   "cell_type": "code",
   "execution_count": null,
   "id": "4bd87aa2",
   "metadata": {},
   "outputs": [],
   "source": [
    "df_final_biopac[\"activity\"].unique()"
   ]
  },
  {
   "cell_type": "code",
   "execution_count": null,
   "id": "c88374a6",
   "metadata": {},
   "outputs": [],
   "source": [
    "custom_order_biopac = ['rest1', 'prepare speech', 'give speech', 'rest2', \n",
    "                        'Mental_Math', 'rest3',  'stationary Bike1','stationary Bike2']\n"
   ]
  },
  {
   "cell_type": "code",
   "execution_count": null,
   "id": "c5aa266d",
   "metadata": {},
   "outputs": [],
   "source": []
  },
  {
   "cell_type": "code",
   "execution_count": null,
   "id": "68034801",
   "metadata": {},
   "outputs": [],
   "source": [
    "df_final_biopac"
   ]
  },
  {
   "cell_type": "code",
   "execution_count": null,
   "id": "63f54ab3",
   "metadata": {},
   "outputs": [],
   "source": [
    "# Define custom order\n",
    "custom_order = ['Rest_1', 'Prepare_Speech', 'Give_Speech', 'Rest_2', 'Mental_Math', 'Rest_3', 'Bike_Legs', 'Bike_Hands']\n",
    "\n",
    "# Convert 'activity' column to categorical with specified order\n",
    "df_final['activity'] = pd.Categorical(df_final['activity'], categories=custom_order, ordered=True)\n",
    "df_final_biopac['activity'] = pd.Categorical(df_final_biopac['activity'], categories=custom_order, ordered=True)\n",
    "\n",
    "# Create traces separately for Smartwatch and Biopac\n",
    "trace_smartwatch = go.Box(\n",
    "    x=df_final[\"activity\"],  # Activity on x-axis\n",
    "    y=df_final[\"HeartRate_float_smartwatch\"],  # Smartwatch HR on y-axis\n",
    "    name=\"Smartwatch\",  # Legend name,\n",
    "    boxpoints='all', # represent all points\n",
    "    marker=dict(color=\"#00439D\")  # Blue color\n",
    ")\n",
    "\n",
    "trace_biopac = go.Box(\n",
    "    x=df_final_biopac[\"activity\"],  # Activity on x-axis\n",
    "    y=df_final_biopac[\"HeartRate_float_biopac\"],  # Biopac HR on y-axis\n",
    "    name=\"Biopac\",  # Legend name,\n",
    "    boxpoints='all', # represent all points\n",
    "    marker=dict(color=\"#FF5733\")  # Orange color\n",
    ")\n",
    "\n",
    "# Create the figure and add both traces\n",
    "fig = go.Figure(data=[trace_smartwatch, trace_biopac])\n",
    "\n",
    "# Update layout\n",
    "fig.update_layout(\n",
    "    title=dict(\n",
    "        text=\"Heart Rate Distribution by Activity\",\n",
    "        font=dict(size=24, color=\"black\"),\n",
    "        x=0.5,\n",
    "\n",
    "        xanchor=\"center\"\n",
    "    ),\n",
    "    xaxis=dict(\n",
    "        title=\"Activity ID\",\n",
    "        title_font=dict(size=16, color=\"black\"),\n",
    "        tickfont=dict(size=14, color=\"black\"),\n",
    "        categoryorder=\"array\",  # Ensure correct order\n",
    "        categoryarray=custom_order\n",
    "    ),\n",
    "    yaxis=dict(\n",
    "        title=\"Heart Rate Average\",\n",
    "        title_font=dict(size=16, color=\"black\"),\n",
    "        tickfont=dict(size=14, color=\"black\")\n",
    "    ),\n",
    "    plot_bgcolor=\"rgba(240, 240, 240, 1)\",  # Light gray background\n",
    "    paper_bgcolor=\"rgba(230, 230, 230, 1)\", # Slightly darker gray background\n",
    "    boxmode=\"group\"  # Ensures side-by-side grouping\n",
    ")\n",
    "# print(\"fsdfs\")\n",
    "# Show the figure\n",
    "fig.show()"
   ]
  },
  {
   "cell_type": "code",
   "execution_count": 73,
   "id": "62ac12eb",
   "metadata": {},
   "outputs": [
    {
     "data": {
      "text/html": [
       "<div>\n",
       "<style scoped>\n",
       "    .dataframe tbody tr th:only-of-type {\n",
       "        vertical-align: middle;\n",
       "    }\n",
       "\n",
       "    .dataframe tbody tr th {\n",
       "        vertical-align: top;\n",
       "    }\n",
       "\n",
       "    .dataframe thead th {\n",
       "        text-align: right;\n",
       "    }\n",
       "</style>\n",
       "<table border=\"1\" class=\"dataframe\">\n",
       "  <thead>\n",
       "    <tr style=\"text-align: right;\">\n",
       "      <th></th>\n",
       "      <th>activity</th>\n",
       "      <th>RMSSD</th>\n",
       "      <th>device</th>\n",
       "      <th>pid</th>\n",
       "    </tr>\n",
       "  </thead>\n",
       "  <tbody>\n",
       "    <tr>\n",
       "      <th>0</th>\n",
       "      <td>Give_Speech</td>\n",
       "      <td>7.996614</td>\n",
       "      <td>smartwatch</td>\n",
       "      <td>P7</td>\n",
       "    </tr>\n",
       "    <tr>\n",
       "      <th>1</th>\n",
       "      <td>Mental_Math</td>\n",
       "      <td>12.174510</td>\n",
       "      <td>smartwatch</td>\n",
       "      <td>P7</td>\n",
       "    </tr>\n",
       "    <tr>\n",
       "      <th>2</th>\n",
       "      <td>Prepare_Speech</td>\n",
       "      <td>10.166747</td>\n",
       "      <td>smartwatch</td>\n",
       "      <td>P7</td>\n",
       "    </tr>\n",
       "    <tr>\n",
       "      <th>3</th>\n",
       "      <td>Rest_1</td>\n",
       "      <td>7.883905</td>\n",
       "      <td>smartwatch</td>\n",
       "      <td>P7</td>\n",
       "    </tr>\n",
       "    <tr>\n",
       "      <th>4</th>\n",
       "      <td>Rest_2</td>\n",
       "      <td>10.997089</td>\n",
       "      <td>smartwatch</td>\n",
       "      <td>P7</td>\n",
       "    </tr>\n",
       "    <tr>\n",
       "      <th>...</th>\n",
       "      <td>...</td>\n",
       "      <td>...</td>\n",
       "      <td>...</td>\n",
       "      <td>...</td>\n",
       "    </tr>\n",
       "    <tr>\n",
       "      <th>75</th>\n",
       "      <td>Rest_2</td>\n",
       "      <td>5.162978</td>\n",
       "      <td>smartwatch</td>\n",
       "      <td>P8</td>\n",
       "    </tr>\n",
       "    <tr>\n",
       "      <th>76</th>\n",
       "      <td>Rest_3</td>\n",
       "      <td>6.982872</td>\n",
       "      <td>smartwatch</td>\n",
       "      <td>P8</td>\n",
       "    </tr>\n",
       "    <tr>\n",
       "      <th>77</th>\n",
       "      <td>Bike_Hands</td>\n",
       "      <td>7.951988</td>\n",
       "      <td>smartwatch</td>\n",
       "      <td>P8</td>\n",
       "    </tr>\n",
       "    <tr>\n",
       "      <th>78</th>\n",
       "      <td>Rest_2</td>\n",
       "      <td>27.964142</td>\n",
       "      <td>smartwatch</td>\n",
       "      <td>P9</td>\n",
       "    </tr>\n",
       "    <tr>\n",
       "      <th>79</th>\n",
       "      <td>Bike_Legs</td>\n",
       "      <td>35.615710</td>\n",
       "      <td>smartwatch</td>\n",
       "      <td>P9</td>\n",
       "    </tr>\n",
       "  </tbody>\n",
       "</table>\n",
       "<p>80 rows × 4 columns</p>\n",
       "</div>"
      ],
      "text/plain": [
       "          activity      RMSSD      device pid\n",
       "0      Give_Speech   7.996614  smartwatch  P7\n",
       "1      Mental_Math  12.174510  smartwatch  P7\n",
       "2   Prepare_Speech  10.166747  smartwatch  P7\n",
       "3           Rest_1   7.883905  smartwatch  P7\n",
       "4           Rest_2  10.997089  smartwatch  P7\n",
       "..             ...        ...         ...  ..\n",
       "75          Rest_2   5.162978  smartwatch  P8\n",
       "76          Rest_3   6.982872  smartwatch  P8\n",
       "77      Bike_Hands   7.951988  smartwatch  P8\n",
       "78          Rest_2  27.964142  smartwatch  P9\n",
       "79       Bike_Legs  35.615710  smartwatch  P9\n",
       "\n",
       "[80 rows x 4 columns]"
      ]
     },
     "execution_count": 73,
     "metadata": {},
     "output_type": "execute_result"
    }
   ],
   "source": [
    "# df_biopac_rmssd = pd.concat(df_biopac_list_rmssd,ignore_index=True)\n",
    "# df_smartwatch_rmssd = pd.concat(df_smartwatch_list_rmssd,ignore_index=True)\n",
    "df_smartwatch_rmssd"
   ]
  },
  {
   "cell_type": "code",
   "execution_count": 74,
   "id": "4bffcf41",
   "metadata": {},
   "outputs": [
    {
     "data": {
      "text/html": [
       "<div>\n",
       "<style scoped>\n",
       "    .dataframe tbody tr th:only-of-type {\n",
       "        vertical-align: middle;\n",
       "    }\n",
       "\n",
       "    .dataframe tbody tr th {\n",
       "        vertical-align: top;\n",
       "    }\n",
       "\n",
       "    .dataframe thead th {\n",
       "        text-align: right;\n",
       "    }\n",
       "</style>\n",
       "<table border=\"1\" class=\"dataframe\">\n",
       "  <thead>\n",
       "    <tr style=\"text-align: right;\">\n",
       "      <th></th>\n",
       "      <th>activity</th>\n",
       "      <th>RMSSD</th>\n",
       "      <th>device</th>\n",
       "      <th>pid</th>\n",
       "    </tr>\n",
       "  </thead>\n",
       "  <tbody>\n",
       "    <tr>\n",
       "      <th>0</th>\n",
       "      <td>give speech</td>\n",
       "      <td>24.356107</td>\n",
       "      <td>biopac</td>\n",
       "      <td>P10</td>\n",
       "    </tr>\n",
       "    <tr>\n",
       "      <th>1</th>\n",
       "      <td>mental math</td>\n",
       "      <td>16.740529</td>\n",
       "      <td>biopac</td>\n",
       "      <td>P10</td>\n",
       "    </tr>\n",
       "    <tr>\n",
       "      <th>2</th>\n",
       "      <td>prepare speech</td>\n",
       "      <td>28.161702</td>\n",
       "      <td>biopac</td>\n",
       "      <td>P10</td>\n",
       "    </tr>\n",
       "    <tr>\n",
       "      <th>3</th>\n",
       "      <td>rest1</td>\n",
       "      <td>21.783705</td>\n",
       "      <td>biopac</td>\n",
       "      <td>P10</td>\n",
       "    </tr>\n",
       "    <tr>\n",
       "      <th>4</th>\n",
       "      <td>rest2</td>\n",
       "      <td>17.852308</td>\n",
       "      <td>biopac</td>\n",
       "      <td>P10</td>\n",
       "    </tr>\n",
       "    <tr>\n",
       "      <th>...</th>\n",
       "      <td>...</td>\n",
       "      <td>...</td>\n",
       "      <td>...</td>\n",
       "      <td>...</td>\n",
       "    </tr>\n",
       "    <tr>\n",
       "      <th>105</th>\n",
       "      <td>rest1</td>\n",
       "      <td>3.746261</td>\n",
       "      <td>biopac</td>\n",
       "      <td>P13</td>\n",
       "    </tr>\n",
       "    <tr>\n",
       "      <th>106</th>\n",
       "      <td>rest2</td>\n",
       "      <td>12.469378</td>\n",
       "      <td>biopac</td>\n",
       "      <td>P13</td>\n",
       "    </tr>\n",
       "    <tr>\n",
       "      <th>107</th>\n",
       "      <td>rest3</td>\n",
       "      <td>15.133334</td>\n",
       "      <td>biopac</td>\n",
       "      <td>P13</td>\n",
       "    </tr>\n",
       "    <tr>\n",
       "      <th>108</th>\n",
       "      <td>stationary Bike1</td>\n",
       "      <td>5.362826</td>\n",
       "      <td>biopac</td>\n",
       "      <td>P13</td>\n",
       "    </tr>\n",
       "    <tr>\n",
       "      <th>109</th>\n",
       "      <td>stationary Bike2</td>\n",
       "      <td>4.026303</td>\n",
       "      <td>biopac</td>\n",
       "      <td>P13</td>\n",
       "    </tr>\n",
       "  </tbody>\n",
       "</table>\n",
       "<p>110 rows × 4 columns</p>\n",
       "</div>"
      ],
      "text/plain": [
       "             activity      RMSSD  device  pid\n",
       "0         give speech  24.356107  biopac  P10\n",
       "1         mental math  16.740529  biopac  P10\n",
       "2      prepare speech  28.161702  biopac  P10\n",
       "3               rest1  21.783705  biopac  P10\n",
       "4               rest2  17.852308  biopac  P10\n",
       "..                ...        ...     ...  ...\n",
       "105             rest1   3.746261  biopac  P13\n",
       "106             rest2  12.469378  biopac  P13\n",
       "107             rest3  15.133334  biopac  P13\n",
       "108  stationary Bike1   5.362826  biopac  P13\n",
       "109  stationary Bike2   4.026303  biopac  P13\n",
       "\n",
       "[110 rows x 4 columns]"
      ]
     },
     "execution_count": 74,
     "metadata": {},
     "output_type": "execute_result"
    }
   ],
   "source": [
    "df_biopac_rmssd"
   ]
  },
  {
   "cell_type": "code",
   "execution_count": 101,
   "id": "f7dd237e",
   "metadata": {},
   "outputs": [
    {
     "data": {
      "application/vnd.plotly.v1+json": {
       "config": {
        "plotlyServerURL": "https://plot.ly"
       },
       "data": [
        {
         "boxpoints": "all",
         "marker": {
          "color": "#00439D"
         },
         "name": "Smartwatch",
         "type": "box",
         "x": [
          "Give_Speech",
          "Mental_Math",
          "Prepare_Speech",
          "Rest_1",
          "Rest_2",
          "Rest_3",
          "Bike_Hands",
          "Bike_Legs",
          "Give_Speech",
          "Mental_Math",
          "Prepare_Speech",
          "Rest_1",
          "Rest_2",
          "Rest_3",
          "Bike_Hands",
          "Bike_Legs",
          "Give_Speech",
          "Mental_Math",
          "Prepare_Speech",
          "Rest_1",
          "Rest_2",
          "Rest_3",
          "Bike_Hands",
          "Bike_Legs",
          "Give_Speech",
          "Mental_Math",
          "Prepare_Speech",
          "Rest_1",
          "Rest_2",
          "Rest_3",
          "Bike_Hands",
          "Bike_Legs",
          "Give_Speech",
          "Mental_Math",
          "Prepare_Speech",
          "Rest_1",
          "Rest_2",
          "Rest_3",
          "Give_Speech",
          "Mental_Math",
          "Prepare_Speech",
          "Rest_1",
          "Rest_2",
          "Rest_3",
          "Give_Speech",
          "Prepare_Speech",
          "Rest_1",
          "Rest_2",
          "Rest_3",
          "Bike_Hands",
          "Bike_Legs",
          "Give_Speech",
          "Mental_Math",
          "Prepare_Speech",
          "Rest_1",
          "Rest_2",
          "Bike_Hands",
          "Bike_Legs",
          "Give_Speech",
          "Mental_Math",
          "Prepare_Speech",
          "Rest_1",
          "Bike_Hands",
          "Bike_Legs",
          "Give_Speech",
          "Mental_Math",
          "Prepare_Speech",
          "Rest_1",
          "Rest_3",
          "Bike_Hands",
          "Bike_Legs",
          "Give_Speech",
          "Mental_Math",
          "Prepare_Speech",
          "Rest_1",
          "Rest_2",
          "Rest_3",
          "Bike_Hands",
          "Rest_2",
          "Bike_Legs"
         ],
         "y": [
          7.996613575269771,
          12.174510428008213,
          10.16674683655365,
          7.883904629601126,
          10.997088673966502,
          8.844986166905667,
          9.582862620441274,
          11.568127099743219,
          15.663403011645523,
          11.680111909156341,
          11.108915827167968,
          14.913612088408486,
          13.354519808616594,
          13.89120584334578,
          14.366103887788332,
          10.685117516711237,
          9.611896760155584,
          11.927154994556386,
          10.502423070134085,
          10.834459370166133,
          13.367280431926021,
          12.84183283784469,
          12.279658537842005,
          28.346267151469846,
          7.266862380343095,
          8.76020997631757,
          14.115743560293552,
          9.43011279442372,
          13.176621634126137,
          10.66834939745119,
          6.04829194975669,
          10.393378239800667,
          12.209299887342086,
          13.980023871481936,
          13.87075862838669,
          16.715905089875047,
          22.62607328916747,
          32.81881320052067,
          14.243849907987634,
          14.074184709873549,
          17.55091070979069,
          13.776428610221181,
          15.490192879986768,
          14.888057601255632,
          6.0444878909819355,
          11.806950409986689,
          8.039105463093104,
          12.259690332452555,
          13.798091163549735,
          18.480698827107236,
          15.722593038013036,
          12.59061787508009,
          15.59892212959425,
          14.79430320373975,
          11.145542734961444,
          10.035939742776584,
          9.19102654401027,
          11.598953680975962,
          18.0286734071082,
          15.02507231283009,
          10.2436461713356,
          21.433415361975555,
          20.585404531331616,
          24.025142306049187,
          12.265408796037544,
          14.894640331343805,
          12.728031400350151,
          15.228358695269572,
          16.12522561196724,
          11.463324100460644,
          14.62413450162716,
          10.481166208454855,
          4.749567178083068,
          8.57527758073523,
          6.674106457916876,
          5.16297781425546,
          6.982872393676594,
          7.951987678558378,
          27.96414224210778,
          35.615710139435905
         ]
        },
        {
         "boxpoints": "all",
         "marker": {
          "color": "#FF5733"
         },
         "name": "Biopac",
         "type": "box",
         "x": [
          "Give_Speech",
          "Mental_Math",
          "Prepare_Speech",
          "Rest_1",
          "Rest_2",
          "Rest_3",
          "Bike_Legs",
          "Bike_Hands",
          "Give_Speech",
          "Mental_Math",
          "Prepare_Speech",
          "Rest_1",
          "Rest_2",
          "Rest_3",
          "Bike_Hands",
          "Give_Speech",
          "Mental_Math",
          "Prepare_Speech",
          "Rest_1",
          "Rest_2",
          "Rest_3",
          "Bike_Legs",
          "Bike_Hands",
          "Give_Speech",
          "Mental_Math",
          "Prepare_Speech",
          "Rest_1",
          "Rest_2",
          "Rest_3",
          "Bike_Legs",
          "Bike_Hands",
          "Give_Speech",
          "Mental_Math",
          "Prepare_Speech",
          "Rest_1",
          "Rest_2",
          "Rest_3",
          "Bike_Legs",
          "Bike_Hands",
          "Give_Speech",
          "Mental_Math",
          "Prepare_Speech",
          "Rest_1",
          "Rest_2",
          "Rest_3",
          "Bike_Hands",
          "Give_Speech",
          "Mental_Math",
          "Prepare_Speech",
          "Rest_1",
          "Rest_2",
          "Rest_3",
          "Bike_Legs",
          "Bike_Hands",
          "Give_Speech",
          "Mental_Math",
          "Prepare_Speech",
          "Rest_1",
          "Rest_2",
          "Rest_3",
          "Bike_Legs",
          "Bike_Hands",
          "Give_Speech",
          "Mental_Math",
          "Prepare_Speech",
          "Rest_1",
          "Rest_2",
          "Rest_3",
          "Bike_Legs",
          "Bike_Hands",
          "Give_Speech",
          "Mental_Math",
          "Prepare_Speech",
          "Rest_1",
          "Rest_2",
          "Rest_3",
          "Bike_Legs",
          "Bike_Hands",
          "biopac",
          "Give_Speech",
          "Mental_Math",
          "Prepare_Speech",
          "Rest_1",
          "Rest_3",
          "Bike_Legs",
          "Bike_Hands",
          "Give_Speech",
          "Mental_Math",
          "Prepare_Speech",
          "Rest_1",
          "Rest_2",
          "Rest_3",
          "Bike_Legs",
          "Bike_Hands",
          "Give_Speech",
          "Mental_Math",
          "Prepare_Speech",
          "Rest_1",
          "Rest_2",
          "Rest_3",
          "Bike_Legs",
          "Bike_Hands",
          "Give_Speech",
          "Mental_Math",
          "Prepare_Speech",
          "Rest_1",
          "Rest_2",
          "Rest_3",
          "Bike_Legs",
          "Bike_Hands"
         ],
         "y": [
          24.356106652572247,
          16.74052886761227,
          28.161701867759867,
          21.78370519373708,
          17.85230810991243,
          18.68611101274541,
          22.11809021768534,
          44.675672226104055,
          21.882361655643557,
          16.67135408745197,
          1.8749377633014517,
          7.171226824818249,
          19.270334347825674,
          8.898372211101243,
          34.05986348689923,
          5.8168504630976905,
          43.79649909905279,
          7.737311665252575,
          3.1046769817800866,
          10.371673929494,
          11.37195551102413,
          2.1743998259847612,
          2.299979970287639,
          7.936983857521236,
          7.930429473440193,
          5.868253383567656,
          10.77679421197984,
          9.498887534354024,
          12.736085551720466,
          9.384562362178256,
          14.809564563842748,
          17.754180993173957,
          10.560307083554966,
          8.484473271441612,
          10.220425330872072,
          7.602328174954153,
          14.942615754551744,
          11.83290337290384,
          31.09825393875867,
          16.395549166184157,
          29.79413142515946,
          11.724984535973322,
          15.444493799347464,
          29.496947720605633,
          31.908556147862743,
          43.6214707931192,
          4.330045144213731,
          17.94336439712015,
          13.504948780744462,
          16.567108545356422,
          10.833698142436425,
          9.563903243560677,
          2.924036703080224,
          17.827492390415923,
          19.237988403916358,
          20.871188178286804,
          11.000098573041656,
          11.683667059830162,
          6.829286592857478,
          26.431148552238753,
          16.59436039485504,
          30.76687294460807,
          7.1437051117056205,
          4.616947883036529,
          5.136138837502536,
          5.147712385553194,
          5.713500486622731,
          4.924044387993882,
          12.246053474501796,
          13.286151547868561,
          13.396239757459902,
          12.100781613707763,
          7.343379851125882,
          10.496124682018783,
          8.056320695396778,
          6.710021140151487,
          26.817558486717456,
          1.7123555740066723,
          20.059335770488346,
          9.618468504378798,
          14.6577384830146,
          20.07461617135005,
          9.106396519345402,
          24.75553508762412,
          12.920931800407027,
          38.85194467914295,
          5.084147945538936,
          4.605762556990229,
          6.91339826602471,
          16.875304016518264,
          11.27819799881347,
          13.964296724152893,
          16.525742529147198,
          21.921946766199614,
          4.103516982210592,
          4.023479433364061,
          4.854318537230301,
          5.703467604146284,
          4.187110775242392,
          5.428600508498982,
          8.430006042439649,
          5.964688732792827,
          1.9220867976690572,
          6.109609662210783,
          1.8023971099531377,
          3.7462609015866977,
          12.46937759517858,
          15.133334391228104,
          5.362826284843172,
          4.026302707815004
         ]
        }
       ],
       "layout": {
        "boxmode": "group",
        "paper_bgcolor": "rgba(230, 230, 230, 1)",
        "plot_bgcolor": "rgba(240, 240, 240, 1)",
        "template": {
         "data": {
          "bar": [
           {
            "error_x": {
             "color": "#2a3f5f"
            },
            "error_y": {
             "color": "#2a3f5f"
            },
            "marker": {
             "line": {
              "color": "#E5ECF6",
              "width": 0.5
             },
             "pattern": {
              "fillmode": "overlay",
              "size": 10,
              "solidity": 0.2
             }
            },
            "type": "bar"
           }
          ],
          "barpolar": [
           {
            "marker": {
             "line": {
              "color": "#E5ECF6",
              "width": 0.5
             },
             "pattern": {
              "fillmode": "overlay",
              "size": 10,
              "solidity": 0.2
             }
            },
            "type": "barpolar"
           }
          ],
          "carpet": [
           {
            "aaxis": {
             "endlinecolor": "#2a3f5f",
             "gridcolor": "white",
             "linecolor": "white",
             "minorgridcolor": "white",
             "startlinecolor": "#2a3f5f"
            },
            "baxis": {
             "endlinecolor": "#2a3f5f",
             "gridcolor": "white",
             "linecolor": "white",
             "minorgridcolor": "white",
             "startlinecolor": "#2a3f5f"
            },
            "type": "carpet"
           }
          ],
          "choropleth": [
           {
            "colorbar": {
             "outlinewidth": 0,
             "ticks": ""
            },
            "type": "choropleth"
           }
          ],
          "contour": [
           {
            "colorbar": {
             "outlinewidth": 0,
             "ticks": ""
            },
            "colorscale": [
             [
              0,
              "#0d0887"
             ],
             [
              0.1111111111111111,
              "#46039f"
             ],
             [
              0.2222222222222222,
              "#7201a8"
             ],
             [
              0.3333333333333333,
              "#9c179e"
             ],
             [
              0.4444444444444444,
              "#bd3786"
             ],
             [
              0.5555555555555556,
              "#d8576b"
             ],
             [
              0.6666666666666666,
              "#ed7953"
             ],
             [
              0.7777777777777778,
              "#fb9f3a"
             ],
             [
              0.8888888888888888,
              "#fdca26"
             ],
             [
              1,
              "#f0f921"
             ]
            ],
            "type": "contour"
           }
          ],
          "contourcarpet": [
           {
            "colorbar": {
             "outlinewidth": 0,
             "ticks": ""
            },
            "type": "contourcarpet"
           }
          ],
          "heatmap": [
           {
            "colorbar": {
             "outlinewidth": 0,
             "ticks": ""
            },
            "colorscale": [
             [
              0,
              "#0d0887"
             ],
             [
              0.1111111111111111,
              "#46039f"
             ],
             [
              0.2222222222222222,
              "#7201a8"
             ],
             [
              0.3333333333333333,
              "#9c179e"
             ],
             [
              0.4444444444444444,
              "#bd3786"
             ],
             [
              0.5555555555555556,
              "#d8576b"
             ],
             [
              0.6666666666666666,
              "#ed7953"
             ],
             [
              0.7777777777777778,
              "#fb9f3a"
             ],
             [
              0.8888888888888888,
              "#fdca26"
             ],
             [
              1,
              "#f0f921"
             ]
            ],
            "type": "heatmap"
           }
          ],
          "heatmapgl": [
           {
            "colorbar": {
             "outlinewidth": 0,
             "ticks": ""
            },
            "colorscale": [
             [
              0,
              "#0d0887"
             ],
             [
              0.1111111111111111,
              "#46039f"
             ],
             [
              0.2222222222222222,
              "#7201a8"
             ],
             [
              0.3333333333333333,
              "#9c179e"
             ],
             [
              0.4444444444444444,
              "#bd3786"
             ],
             [
              0.5555555555555556,
              "#d8576b"
             ],
             [
              0.6666666666666666,
              "#ed7953"
             ],
             [
              0.7777777777777778,
              "#fb9f3a"
             ],
             [
              0.8888888888888888,
              "#fdca26"
             ],
             [
              1,
              "#f0f921"
             ]
            ],
            "type": "heatmapgl"
           }
          ],
          "histogram": [
           {
            "marker": {
             "pattern": {
              "fillmode": "overlay",
              "size": 10,
              "solidity": 0.2
             }
            },
            "type": "histogram"
           }
          ],
          "histogram2d": [
           {
            "colorbar": {
             "outlinewidth": 0,
             "ticks": ""
            },
            "colorscale": [
             [
              0,
              "#0d0887"
             ],
             [
              0.1111111111111111,
              "#46039f"
             ],
             [
              0.2222222222222222,
              "#7201a8"
             ],
             [
              0.3333333333333333,
              "#9c179e"
             ],
             [
              0.4444444444444444,
              "#bd3786"
             ],
             [
              0.5555555555555556,
              "#d8576b"
             ],
             [
              0.6666666666666666,
              "#ed7953"
             ],
             [
              0.7777777777777778,
              "#fb9f3a"
             ],
             [
              0.8888888888888888,
              "#fdca26"
             ],
             [
              1,
              "#f0f921"
             ]
            ],
            "type": "histogram2d"
           }
          ],
          "histogram2dcontour": [
           {
            "colorbar": {
             "outlinewidth": 0,
             "ticks": ""
            },
            "colorscale": [
             [
              0,
              "#0d0887"
             ],
             [
              0.1111111111111111,
              "#46039f"
             ],
             [
              0.2222222222222222,
              "#7201a8"
             ],
             [
              0.3333333333333333,
              "#9c179e"
             ],
             [
              0.4444444444444444,
              "#bd3786"
             ],
             [
              0.5555555555555556,
              "#d8576b"
             ],
             [
              0.6666666666666666,
              "#ed7953"
             ],
             [
              0.7777777777777778,
              "#fb9f3a"
             ],
             [
              0.8888888888888888,
              "#fdca26"
             ],
             [
              1,
              "#f0f921"
             ]
            ],
            "type": "histogram2dcontour"
           }
          ],
          "mesh3d": [
           {
            "colorbar": {
             "outlinewidth": 0,
             "ticks": ""
            },
            "type": "mesh3d"
           }
          ],
          "parcoords": [
           {
            "line": {
             "colorbar": {
              "outlinewidth": 0,
              "ticks": ""
             }
            },
            "type": "parcoords"
           }
          ],
          "pie": [
           {
            "automargin": true,
            "type": "pie"
           }
          ],
          "scatter": [
           {
            "fillpattern": {
             "fillmode": "overlay",
             "size": 10,
             "solidity": 0.2
            },
            "type": "scatter"
           }
          ],
          "scatter3d": [
           {
            "line": {
             "colorbar": {
              "outlinewidth": 0,
              "ticks": ""
             }
            },
            "marker": {
             "colorbar": {
              "outlinewidth": 0,
              "ticks": ""
             }
            },
            "type": "scatter3d"
           }
          ],
          "scattercarpet": [
           {
            "marker": {
             "colorbar": {
              "outlinewidth": 0,
              "ticks": ""
             }
            },
            "type": "scattercarpet"
           }
          ],
          "scattergeo": [
           {
            "marker": {
             "colorbar": {
              "outlinewidth": 0,
              "ticks": ""
             }
            },
            "type": "scattergeo"
           }
          ],
          "scattergl": [
           {
            "marker": {
             "colorbar": {
              "outlinewidth": 0,
              "ticks": ""
             }
            },
            "type": "scattergl"
           }
          ],
          "scattermapbox": [
           {
            "marker": {
             "colorbar": {
              "outlinewidth": 0,
              "ticks": ""
             }
            },
            "type": "scattermapbox"
           }
          ],
          "scatterpolar": [
           {
            "marker": {
             "colorbar": {
              "outlinewidth": 0,
              "ticks": ""
             }
            },
            "type": "scatterpolar"
           }
          ],
          "scatterpolargl": [
           {
            "marker": {
             "colorbar": {
              "outlinewidth": 0,
              "ticks": ""
             }
            },
            "type": "scatterpolargl"
           }
          ],
          "scatterternary": [
           {
            "marker": {
             "colorbar": {
              "outlinewidth": 0,
              "ticks": ""
             }
            },
            "type": "scatterternary"
           }
          ],
          "surface": [
           {
            "colorbar": {
             "outlinewidth": 0,
             "ticks": ""
            },
            "colorscale": [
             [
              0,
              "#0d0887"
             ],
             [
              0.1111111111111111,
              "#46039f"
             ],
             [
              0.2222222222222222,
              "#7201a8"
             ],
             [
              0.3333333333333333,
              "#9c179e"
             ],
             [
              0.4444444444444444,
              "#bd3786"
             ],
             [
              0.5555555555555556,
              "#d8576b"
             ],
             [
              0.6666666666666666,
              "#ed7953"
             ],
             [
              0.7777777777777778,
              "#fb9f3a"
             ],
             [
              0.8888888888888888,
              "#fdca26"
             ],
             [
              1,
              "#f0f921"
             ]
            ],
            "type": "surface"
           }
          ],
          "table": [
           {
            "cells": {
             "fill": {
              "color": "#EBF0F8"
             },
             "line": {
              "color": "white"
             }
            },
            "header": {
             "fill": {
              "color": "#C8D4E3"
             },
             "line": {
              "color": "white"
             }
            },
            "type": "table"
           }
          ]
         },
         "layout": {
          "annotationdefaults": {
           "arrowcolor": "#2a3f5f",
           "arrowhead": 0,
           "arrowwidth": 1
          },
          "autotypenumbers": "strict",
          "coloraxis": {
           "colorbar": {
            "outlinewidth": 0,
            "ticks": ""
           }
          },
          "colorscale": {
           "diverging": [
            [
             0,
             "#8e0152"
            ],
            [
             0.1,
             "#c51b7d"
            ],
            [
             0.2,
             "#de77ae"
            ],
            [
             0.3,
             "#f1b6da"
            ],
            [
             0.4,
             "#fde0ef"
            ],
            [
             0.5,
             "#f7f7f7"
            ],
            [
             0.6,
             "#e6f5d0"
            ],
            [
             0.7,
             "#b8e186"
            ],
            [
             0.8,
             "#7fbc41"
            ],
            [
             0.9,
             "#4d9221"
            ],
            [
             1,
             "#276419"
            ]
           ],
           "sequential": [
            [
             0,
             "#0d0887"
            ],
            [
             0.1111111111111111,
             "#46039f"
            ],
            [
             0.2222222222222222,
             "#7201a8"
            ],
            [
             0.3333333333333333,
             "#9c179e"
            ],
            [
             0.4444444444444444,
             "#bd3786"
            ],
            [
             0.5555555555555556,
             "#d8576b"
            ],
            [
             0.6666666666666666,
             "#ed7953"
            ],
            [
             0.7777777777777778,
             "#fb9f3a"
            ],
            [
             0.8888888888888888,
             "#fdca26"
            ],
            [
             1,
             "#f0f921"
            ]
           ],
           "sequentialminus": [
            [
             0,
             "#0d0887"
            ],
            [
             0.1111111111111111,
             "#46039f"
            ],
            [
             0.2222222222222222,
             "#7201a8"
            ],
            [
             0.3333333333333333,
             "#9c179e"
            ],
            [
             0.4444444444444444,
             "#bd3786"
            ],
            [
             0.5555555555555556,
             "#d8576b"
            ],
            [
             0.6666666666666666,
             "#ed7953"
            ],
            [
             0.7777777777777778,
             "#fb9f3a"
            ],
            [
             0.8888888888888888,
             "#fdca26"
            ],
            [
             1,
             "#f0f921"
            ]
           ]
          },
          "colorway": [
           "#636efa",
           "#EF553B",
           "#00cc96",
           "#ab63fa",
           "#FFA15A",
           "#19d3f3",
           "#FF6692",
           "#B6E880",
           "#FF97FF",
           "#FECB52"
          ],
          "font": {
           "color": "#2a3f5f"
          },
          "geo": {
           "bgcolor": "white",
           "lakecolor": "white",
           "landcolor": "#E5ECF6",
           "showlakes": true,
           "showland": true,
           "subunitcolor": "white"
          },
          "hoverlabel": {
           "align": "left"
          },
          "hovermode": "closest",
          "mapbox": {
           "style": "light"
          },
          "paper_bgcolor": "white",
          "plot_bgcolor": "#E5ECF6",
          "polar": {
           "angularaxis": {
            "gridcolor": "white",
            "linecolor": "white",
            "ticks": ""
           },
           "bgcolor": "#E5ECF6",
           "radialaxis": {
            "gridcolor": "white",
            "linecolor": "white",
            "ticks": ""
           }
          },
          "scene": {
           "xaxis": {
            "backgroundcolor": "#E5ECF6",
            "gridcolor": "white",
            "gridwidth": 2,
            "linecolor": "white",
            "showbackground": true,
            "ticks": "",
            "zerolinecolor": "white"
           },
           "yaxis": {
            "backgroundcolor": "#E5ECF6",
            "gridcolor": "white",
            "gridwidth": 2,
            "linecolor": "white",
            "showbackground": true,
            "ticks": "",
            "zerolinecolor": "white"
           },
           "zaxis": {
            "backgroundcolor": "#E5ECF6",
            "gridcolor": "white",
            "gridwidth": 2,
            "linecolor": "white",
            "showbackground": true,
            "ticks": "",
            "zerolinecolor": "white"
           }
          },
          "shapedefaults": {
           "line": {
            "color": "#2a3f5f"
           }
          },
          "ternary": {
           "aaxis": {
            "gridcolor": "white",
            "linecolor": "white",
            "ticks": ""
           },
           "baxis": {
            "gridcolor": "white",
            "linecolor": "white",
            "ticks": ""
           },
           "bgcolor": "#E5ECF6",
           "caxis": {
            "gridcolor": "white",
            "linecolor": "white",
            "ticks": ""
           }
          },
          "title": {
           "x": 0.05
          },
          "xaxis": {
           "automargin": true,
           "gridcolor": "white",
           "linecolor": "white",
           "ticks": "",
           "title": {
            "standoff": 15
           },
           "zerolinecolor": "white",
           "zerolinewidth": 2
          },
          "yaxis": {
           "automargin": true,
           "gridcolor": "white",
           "linecolor": "white",
           "ticks": "",
           "title": {
            "standoff": 15
           },
           "zerolinecolor": "white",
           "zerolinewidth": 2
          }
         }
        },
        "title": {
         "font": {
          "color": "black",
          "size": 24
         },
         "text": "Heart Rate (RMSSD (ms)) Distribution by Activity",
         "x": 0.5,
         "xanchor": "center"
        },
        "xaxis": {
         "categoryarray": [
          "Rest_1",
          "Prepare_Speech",
          "Give_Speech",
          "Rest_2",
          "Mental_Math",
          "Rest_3",
          "Bike_Legs",
          "Bike_Hands"
         ],
         "categoryorder": "array",
         "tickfont": {
          "color": "black",
          "size": 14
         },
         "title": {
          "font": {
           "color": "black",
           "size": 16
          },
          "text": "Activity ID"
         }
        },
        "yaxis": {
         "tickfont": {
          "color": "black",
          "size": 14
         },
         "title": {
          "font": {
           "color": "black",
           "size": 16
          },
          "text": "Heart Rate Average"
         }
        }
       }
      },
      "text/html": [
       "<div>                            <div id=\"c5c5f5d3-308f-492b-b477-58307b843e00\" class=\"plotly-graph-div\" style=\"height:525px; width:100%;\"></div>            <script type=\"text/javascript\">                require([\"plotly\"], function(Plotly) {                    window.PLOTLYENV=window.PLOTLYENV || {};                                    if (document.getElementById(\"c5c5f5d3-308f-492b-b477-58307b843e00\")) {                    Plotly.newPlot(                        \"c5c5f5d3-308f-492b-b477-58307b843e00\",                        [{\"boxpoints\":\"all\",\"marker\":{\"color\":\"#00439D\"},\"name\":\"Smartwatch\",\"x\":[\"Give_Speech\",\"Mental_Math\",\"Prepare_Speech\",\"Rest_1\",\"Rest_2\",\"Rest_3\",\"Bike_Hands\",\"Bike_Legs\",\"Give_Speech\",\"Mental_Math\",\"Prepare_Speech\",\"Rest_1\",\"Rest_2\",\"Rest_3\",\"Bike_Hands\",\"Bike_Legs\",\"Give_Speech\",\"Mental_Math\",\"Prepare_Speech\",\"Rest_1\",\"Rest_2\",\"Rest_3\",\"Bike_Hands\",\"Bike_Legs\",\"Give_Speech\",\"Mental_Math\",\"Prepare_Speech\",\"Rest_1\",\"Rest_2\",\"Rest_3\",\"Bike_Hands\",\"Bike_Legs\",\"Give_Speech\",\"Mental_Math\",\"Prepare_Speech\",\"Rest_1\",\"Rest_2\",\"Rest_3\",\"Give_Speech\",\"Mental_Math\",\"Prepare_Speech\",\"Rest_1\",\"Rest_2\",\"Rest_3\",\"Give_Speech\",\"Prepare_Speech\",\"Rest_1\",\"Rest_2\",\"Rest_3\",\"Bike_Hands\",\"Bike_Legs\",\"Give_Speech\",\"Mental_Math\",\"Prepare_Speech\",\"Rest_1\",\"Rest_2\",\"Bike_Hands\",\"Bike_Legs\",\"Give_Speech\",\"Mental_Math\",\"Prepare_Speech\",\"Rest_1\",\"Bike_Hands\",\"Bike_Legs\",\"Give_Speech\",\"Mental_Math\",\"Prepare_Speech\",\"Rest_1\",\"Rest_3\",\"Bike_Hands\",\"Bike_Legs\",\"Give_Speech\",\"Mental_Math\",\"Prepare_Speech\",\"Rest_1\",\"Rest_2\",\"Rest_3\",\"Bike_Hands\",\"Rest_2\",\"Bike_Legs\"],\"y\":[7.996613575269771,12.174510428008213,10.16674683655365,7.883904629601126,10.997088673966502,8.844986166905667,9.582862620441274,11.568127099743219,15.663403011645523,11.680111909156341,11.108915827167968,14.913612088408486,13.354519808616594,13.89120584334578,14.366103887788332,10.685117516711237,9.611896760155584,11.927154994556386,10.502423070134085,10.834459370166133,13.367280431926021,12.84183283784469,12.279658537842005,28.346267151469846,7.266862380343095,8.76020997631757,14.115743560293552,9.43011279442372,13.176621634126137,10.66834939745119,6.04829194975669,10.393378239800667,12.209299887342086,13.980023871481936,13.87075862838669,16.715905089875047,22.62607328916747,32.81881320052067,14.243849907987634,14.074184709873549,17.55091070979069,13.776428610221181,15.490192879986768,14.888057601255632,6.0444878909819355,11.806950409986689,8.039105463093104,12.259690332452555,13.798091163549735,18.480698827107236,15.722593038013036,12.59061787508009,15.59892212959425,14.79430320373975,11.145542734961444,10.035939742776584,9.19102654401027,11.598953680975962,18.0286734071082,15.02507231283009,10.2436461713356,21.433415361975555,20.585404531331616,24.025142306049187,12.265408796037544,14.894640331343805,12.728031400350151,15.228358695269572,16.12522561196724,11.463324100460644,14.62413450162716,10.481166208454855,4.749567178083068,8.57527758073523,6.674106457916876,5.16297781425546,6.982872393676594,7.951987678558378,27.96414224210778,35.615710139435905],\"type\":\"box\"},{\"boxpoints\":\"all\",\"marker\":{\"color\":\"#FF5733\"},\"name\":\"Biopac\",\"x\":[\"Give_Speech\",\"Mental_Math\",\"Prepare_Speech\",\"Rest_1\",\"Rest_2\",\"Rest_3\",\"Bike_Legs\",\"Bike_Hands\",\"Give_Speech\",\"Mental_Math\",\"Prepare_Speech\",\"Rest_1\",\"Rest_2\",\"Rest_3\",\"Bike_Hands\",\"Give_Speech\",\"Mental_Math\",\"Prepare_Speech\",\"Rest_1\",\"Rest_2\",\"Rest_3\",\"Bike_Legs\",\"Bike_Hands\",\"Give_Speech\",\"Mental_Math\",\"Prepare_Speech\",\"Rest_1\",\"Rest_2\",\"Rest_3\",\"Bike_Legs\",\"Bike_Hands\",\"Give_Speech\",\"Mental_Math\",\"Prepare_Speech\",\"Rest_1\",\"Rest_2\",\"Rest_3\",\"Bike_Legs\",\"Bike_Hands\",\"Give_Speech\",\"Mental_Math\",\"Prepare_Speech\",\"Rest_1\",\"Rest_2\",\"Rest_3\",\"Bike_Hands\",\"Give_Speech\",\"Mental_Math\",\"Prepare_Speech\",\"Rest_1\",\"Rest_2\",\"Rest_3\",\"Bike_Legs\",\"Bike_Hands\",\"Give_Speech\",\"Mental_Math\",\"Prepare_Speech\",\"Rest_1\",\"Rest_2\",\"Rest_3\",\"Bike_Legs\",\"Bike_Hands\",\"Give_Speech\",\"Mental_Math\",\"Prepare_Speech\",\"Rest_1\",\"Rest_2\",\"Rest_3\",\"Bike_Legs\",\"Bike_Hands\",\"Give_Speech\",\"Mental_Math\",\"Prepare_Speech\",\"Rest_1\",\"Rest_2\",\"Rest_3\",\"Bike_Legs\",\"Bike_Hands\",\"biopac\",\"Give_Speech\",\"Mental_Math\",\"Prepare_Speech\",\"Rest_1\",\"Rest_3\",\"Bike_Legs\",\"Bike_Hands\",\"Give_Speech\",\"Mental_Math\",\"Prepare_Speech\",\"Rest_1\",\"Rest_2\",\"Rest_3\",\"Bike_Legs\",\"Bike_Hands\",\"Give_Speech\",\"Mental_Math\",\"Prepare_Speech\",\"Rest_1\",\"Rest_2\",\"Rest_3\",\"Bike_Legs\",\"Bike_Hands\",\"Give_Speech\",\"Mental_Math\",\"Prepare_Speech\",\"Rest_1\",\"Rest_2\",\"Rest_3\",\"Bike_Legs\",\"Bike_Hands\"],\"y\":[24.356106652572247,16.74052886761227,28.161701867759867,21.78370519373708,17.85230810991243,18.68611101274541,22.11809021768534,44.675672226104055,21.882361655643557,16.67135408745197,1.8749377633014517,7.171226824818249,19.270334347825674,8.898372211101243,34.05986348689923,5.8168504630976905,43.79649909905279,7.737311665252575,3.1046769817800866,10.371673929494,11.37195551102413,2.1743998259847612,2.299979970287639,7.936983857521236,7.930429473440193,5.868253383567656,10.77679421197984,9.498887534354024,12.736085551720466,9.384562362178256,14.809564563842748,17.754180993173957,10.560307083554966,8.484473271441612,10.220425330872072,7.602328174954153,14.942615754551744,11.83290337290384,31.09825393875867,16.395549166184157,29.79413142515946,11.724984535973322,15.444493799347464,29.496947720605633,31.908556147862743,43.6214707931192,4.330045144213731,17.94336439712015,13.504948780744462,16.567108545356422,10.833698142436425,9.563903243560677,2.924036703080224,17.827492390415923,19.237988403916358,20.871188178286804,11.000098573041656,11.683667059830162,6.829286592857478,26.431148552238753,16.59436039485504,30.76687294460807,7.1437051117056205,4.616947883036529,5.136138837502536,5.147712385553194,5.713500486622731,4.924044387993882,12.246053474501796,13.286151547868561,13.396239757459902,12.100781613707763,7.343379851125882,10.496124682018783,8.056320695396778,6.710021140151487,26.817558486717456,1.7123555740066723,20.059335770488346,9.618468504378798,14.6577384830146,20.07461617135005,9.106396519345402,24.75553508762412,12.920931800407027,38.85194467914295,5.084147945538936,4.605762556990229,6.91339826602471,16.875304016518264,11.27819799881347,13.964296724152893,16.525742529147198,21.921946766199614,4.103516982210592,4.023479433364061,4.854318537230301,5.703467604146284,4.187110775242392,5.428600508498982,8.430006042439649,5.964688732792827,1.9220867976690572,6.109609662210783,1.8023971099531377,3.7462609015866977,12.46937759517858,15.133334391228104,5.362826284843172,4.026302707815004],\"type\":\"box\"}],                        {\"template\":{\"data\":{\"histogram2dcontour\":[{\"type\":\"histogram2dcontour\",\"colorbar\":{\"outlinewidth\":0,\"ticks\":\"\"},\"colorscale\":[[0.0,\"#0d0887\"],[0.1111111111111111,\"#46039f\"],[0.2222222222222222,\"#7201a8\"],[0.3333333333333333,\"#9c179e\"],[0.4444444444444444,\"#bd3786\"],[0.5555555555555556,\"#d8576b\"],[0.6666666666666666,\"#ed7953\"],[0.7777777777777778,\"#fb9f3a\"],[0.8888888888888888,\"#fdca26\"],[1.0,\"#f0f921\"]]}],\"choropleth\":[{\"type\":\"choropleth\",\"colorbar\":{\"outlinewidth\":0,\"ticks\":\"\"}}],\"histogram2d\":[{\"type\":\"histogram2d\",\"colorbar\":{\"outlinewidth\":0,\"ticks\":\"\"},\"colorscale\":[[0.0,\"#0d0887\"],[0.1111111111111111,\"#46039f\"],[0.2222222222222222,\"#7201a8\"],[0.3333333333333333,\"#9c179e\"],[0.4444444444444444,\"#bd3786\"],[0.5555555555555556,\"#d8576b\"],[0.6666666666666666,\"#ed7953\"],[0.7777777777777778,\"#fb9f3a\"],[0.8888888888888888,\"#fdca26\"],[1.0,\"#f0f921\"]]}],\"heatmap\":[{\"type\":\"heatmap\",\"colorbar\":{\"outlinewidth\":0,\"ticks\":\"\"},\"colorscale\":[[0.0,\"#0d0887\"],[0.1111111111111111,\"#46039f\"],[0.2222222222222222,\"#7201a8\"],[0.3333333333333333,\"#9c179e\"],[0.4444444444444444,\"#bd3786\"],[0.5555555555555556,\"#d8576b\"],[0.6666666666666666,\"#ed7953\"],[0.7777777777777778,\"#fb9f3a\"],[0.8888888888888888,\"#fdca26\"],[1.0,\"#f0f921\"]]}],\"heatmapgl\":[{\"type\":\"heatmapgl\",\"colorbar\":{\"outlinewidth\":0,\"ticks\":\"\"},\"colorscale\":[[0.0,\"#0d0887\"],[0.1111111111111111,\"#46039f\"],[0.2222222222222222,\"#7201a8\"],[0.3333333333333333,\"#9c179e\"],[0.4444444444444444,\"#bd3786\"],[0.5555555555555556,\"#d8576b\"],[0.6666666666666666,\"#ed7953\"],[0.7777777777777778,\"#fb9f3a\"],[0.8888888888888888,\"#fdca26\"],[1.0,\"#f0f921\"]]}],\"contourcarpet\":[{\"type\":\"contourcarpet\",\"colorbar\":{\"outlinewidth\":0,\"ticks\":\"\"}}],\"contour\":[{\"type\":\"contour\",\"colorbar\":{\"outlinewidth\":0,\"ticks\":\"\"},\"colorscale\":[[0.0,\"#0d0887\"],[0.1111111111111111,\"#46039f\"],[0.2222222222222222,\"#7201a8\"],[0.3333333333333333,\"#9c179e\"],[0.4444444444444444,\"#bd3786\"],[0.5555555555555556,\"#d8576b\"],[0.6666666666666666,\"#ed7953\"],[0.7777777777777778,\"#fb9f3a\"],[0.8888888888888888,\"#fdca26\"],[1.0,\"#f0f921\"]]}],\"surface\":[{\"type\":\"surface\",\"colorbar\":{\"outlinewidth\":0,\"ticks\":\"\"},\"colorscale\":[[0.0,\"#0d0887\"],[0.1111111111111111,\"#46039f\"],[0.2222222222222222,\"#7201a8\"],[0.3333333333333333,\"#9c179e\"],[0.4444444444444444,\"#bd3786\"],[0.5555555555555556,\"#d8576b\"],[0.6666666666666666,\"#ed7953\"],[0.7777777777777778,\"#fb9f3a\"],[0.8888888888888888,\"#fdca26\"],[1.0,\"#f0f921\"]]}],\"mesh3d\":[{\"type\":\"mesh3d\",\"colorbar\":{\"outlinewidth\":0,\"ticks\":\"\"}}],\"scatter\":[{\"fillpattern\":{\"fillmode\":\"overlay\",\"size\":10,\"solidity\":0.2},\"type\":\"scatter\"}],\"parcoords\":[{\"type\":\"parcoords\",\"line\":{\"colorbar\":{\"outlinewidth\":0,\"ticks\":\"\"}}}],\"scatterpolargl\":[{\"type\":\"scatterpolargl\",\"marker\":{\"colorbar\":{\"outlinewidth\":0,\"ticks\":\"\"}}}],\"bar\":[{\"error_x\":{\"color\":\"#2a3f5f\"},\"error_y\":{\"color\":\"#2a3f5f\"},\"marker\":{\"line\":{\"color\":\"#E5ECF6\",\"width\":0.5},\"pattern\":{\"fillmode\":\"overlay\",\"size\":10,\"solidity\":0.2}},\"type\":\"bar\"}],\"scattergeo\":[{\"type\":\"scattergeo\",\"marker\":{\"colorbar\":{\"outlinewidth\":0,\"ticks\":\"\"}}}],\"scatterpolar\":[{\"type\":\"scatterpolar\",\"marker\":{\"colorbar\":{\"outlinewidth\":0,\"ticks\":\"\"}}}],\"histogram\":[{\"marker\":{\"pattern\":{\"fillmode\":\"overlay\",\"size\":10,\"solidity\":0.2}},\"type\":\"histogram\"}],\"scattergl\":[{\"type\":\"scattergl\",\"marker\":{\"colorbar\":{\"outlinewidth\":0,\"ticks\":\"\"}}}],\"scatter3d\":[{\"type\":\"scatter3d\",\"line\":{\"colorbar\":{\"outlinewidth\":0,\"ticks\":\"\"}},\"marker\":{\"colorbar\":{\"outlinewidth\":0,\"ticks\":\"\"}}}],\"scattermapbox\":[{\"type\":\"scattermapbox\",\"marker\":{\"colorbar\":{\"outlinewidth\":0,\"ticks\":\"\"}}}],\"scatterternary\":[{\"type\":\"scatterternary\",\"marker\":{\"colorbar\":{\"outlinewidth\":0,\"ticks\":\"\"}}}],\"scattercarpet\":[{\"type\":\"scattercarpet\",\"marker\":{\"colorbar\":{\"outlinewidth\":0,\"ticks\":\"\"}}}],\"carpet\":[{\"aaxis\":{\"endlinecolor\":\"#2a3f5f\",\"gridcolor\":\"white\",\"linecolor\":\"white\",\"minorgridcolor\":\"white\",\"startlinecolor\":\"#2a3f5f\"},\"baxis\":{\"endlinecolor\":\"#2a3f5f\",\"gridcolor\":\"white\",\"linecolor\":\"white\",\"minorgridcolor\":\"white\",\"startlinecolor\":\"#2a3f5f\"},\"type\":\"carpet\"}],\"table\":[{\"cells\":{\"fill\":{\"color\":\"#EBF0F8\"},\"line\":{\"color\":\"white\"}},\"header\":{\"fill\":{\"color\":\"#C8D4E3\"},\"line\":{\"color\":\"white\"}},\"type\":\"table\"}],\"barpolar\":[{\"marker\":{\"line\":{\"color\":\"#E5ECF6\",\"width\":0.5},\"pattern\":{\"fillmode\":\"overlay\",\"size\":10,\"solidity\":0.2}},\"type\":\"barpolar\"}],\"pie\":[{\"automargin\":true,\"type\":\"pie\"}]},\"layout\":{\"autotypenumbers\":\"strict\",\"colorway\":[\"#636efa\",\"#EF553B\",\"#00cc96\",\"#ab63fa\",\"#FFA15A\",\"#19d3f3\",\"#FF6692\",\"#B6E880\",\"#FF97FF\",\"#FECB52\"],\"font\":{\"color\":\"#2a3f5f\"},\"hovermode\":\"closest\",\"hoverlabel\":{\"align\":\"left\"},\"paper_bgcolor\":\"white\",\"plot_bgcolor\":\"#E5ECF6\",\"polar\":{\"bgcolor\":\"#E5ECF6\",\"angularaxis\":{\"gridcolor\":\"white\",\"linecolor\":\"white\",\"ticks\":\"\"},\"radialaxis\":{\"gridcolor\":\"white\",\"linecolor\":\"white\",\"ticks\":\"\"}},\"ternary\":{\"bgcolor\":\"#E5ECF6\",\"aaxis\":{\"gridcolor\":\"white\",\"linecolor\":\"white\",\"ticks\":\"\"},\"baxis\":{\"gridcolor\":\"white\",\"linecolor\":\"white\",\"ticks\":\"\"},\"caxis\":{\"gridcolor\":\"white\",\"linecolor\":\"white\",\"ticks\":\"\"}},\"coloraxis\":{\"colorbar\":{\"outlinewidth\":0,\"ticks\":\"\"}},\"colorscale\":{\"sequential\":[[0.0,\"#0d0887\"],[0.1111111111111111,\"#46039f\"],[0.2222222222222222,\"#7201a8\"],[0.3333333333333333,\"#9c179e\"],[0.4444444444444444,\"#bd3786\"],[0.5555555555555556,\"#d8576b\"],[0.6666666666666666,\"#ed7953\"],[0.7777777777777778,\"#fb9f3a\"],[0.8888888888888888,\"#fdca26\"],[1.0,\"#f0f921\"]],\"sequentialminus\":[[0.0,\"#0d0887\"],[0.1111111111111111,\"#46039f\"],[0.2222222222222222,\"#7201a8\"],[0.3333333333333333,\"#9c179e\"],[0.4444444444444444,\"#bd3786\"],[0.5555555555555556,\"#d8576b\"],[0.6666666666666666,\"#ed7953\"],[0.7777777777777778,\"#fb9f3a\"],[0.8888888888888888,\"#fdca26\"],[1.0,\"#f0f921\"]],\"diverging\":[[0,\"#8e0152\"],[0.1,\"#c51b7d\"],[0.2,\"#de77ae\"],[0.3,\"#f1b6da\"],[0.4,\"#fde0ef\"],[0.5,\"#f7f7f7\"],[0.6,\"#e6f5d0\"],[0.7,\"#b8e186\"],[0.8,\"#7fbc41\"],[0.9,\"#4d9221\"],[1,\"#276419\"]]},\"xaxis\":{\"gridcolor\":\"white\",\"linecolor\":\"white\",\"ticks\":\"\",\"title\":{\"standoff\":15},\"zerolinecolor\":\"white\",\"automargin\":true,\"zerolinewidth\":2},\"yaxis\":{\"gridcolor\":\"white\",\"linecolor\":\"white\",\"ticks\":\"\",\"title\":{\"standoff\":15},\"zerolinecolor\":\"white\",\"automargin\":true,\"zerolinewidth\":2},\"scene\":{\"xaxis\":{\"backgroundcolor\":\"#E5ECF6\",\"gridcolor\":\"white\",\"linecolor\":\"white\",\"showbackground\":true,\"ticks\":\"\",\"zerolinecolor\":\"white\",\"gridwidth\":2},\"yaxis\":{\"backgroundcolor\":\"#E5ECF6\",\"gridcolor\":\"white\",\"linecolor\":\"white\",\"showbackground\":true,\"ticks\":\"\",\"zerolinecolor\":\"white\",\"gridwidth\":2},\"zaxis\":{\"backgroundcolor\":\"#E5ECF6\",\"gridcolor\":\"white\",\"linecolor\":\"white\",\"showbackground\":true,\"ticks\":\"\",\"zerolinecolor\":\"white\",\"gridwidth\":2}},\"shapedefaults\":{\"line\":{\"color\":\"#2a3f5f\"}},\"annotationdefaults\":{\"arrowcolor\":\"#2a3f5f\",\"arrowhead\":0,\"arrowwidth\":1},\"geo\":{\"bgcolor\":\"white\",\"landcolor\":\"#E5ECF6\",\"subunitcolor\":\"white\",\"showland\":true,\"showlakes\":true,\"lakecolor\":\"white\"},\"title\":{\"x\":0.05},\"mapbox\":{\"style\":\"light\"}}},\"title\":{\"font\":{\"size\":24,\"color\":\"black\"},\"text\":\"Heart Rate (RMSSD (ms)) Distribution by Activity\",\"x\":0.5,\"xanchor\":\"center\"},\"xaxis\":{\"title\":{\"text\":\"Activity ID\",\"font\":{\"size\":16,\"color\":\"black\"}},\"tickfont\":{\"size\":14,\"color\":\"black\"},\"categoryorder\":\"array\",\"categoryarray\":[\"Rest_1\",\"Prepare_Speech\",\"Give_Speech\",\"Rest_2\",\"Mental_Math\",\"Rest_3\",\"Bike_Legs\",\"Bike_Hands\"]},\"yaxis\":{\"title\":{\"text\":\"Heart Rate Average\",\"font\":{\"size\":16,\"color\":\"black\"}},\"tickfont\":{\"size\":14,\"color\":\"black\"}},\"plot_bgcolor\":\"rgba(240, 240, 240, 1)\",\"paper_bgcolor\":\"rgba(230, 230, 230, 1)\",\"boxmode\":\"group\"},                        {\"responsive\": true}                    ).then(function(){\n",
       "                            \n",
       "var gd = document.getElementById('c5c5f5d3-308f-492b-b477-58307b843e00');\n",
       "var x = new MutationObserver(function (mutations, observer) {{\n",
       "        var display = window.getComputedStyle(gd).display;\n",
       "        if (!display || display === 'none') {{\n",
       "            console.log([gd, 'removed!']);\n",
       "            Plotly.purge(gd);\n",
       "            observer.disconnect();\n",
       "        }}\n",
       "}});\n",
       "\n",
       "// Listen for the removal of the full notebook cells\n",
       "var notebookContainer = gd.closest('#notebook-container');\n",
       "if (notebookContainer) {{\n",
       "    x.observe(notebookContainer, {childList: true});\n",
       "}}\n",
       "\n",
       "// Listen for the clearing of the current output cell\n",
       "var outputEl = gd.closest('.output');\n",
       "if (outputEl) {{\n",
       "    x.observe(outputEl, {childList: true});\n",
       "}}\n",
       "\n",
       "                        })                };                });            </script>        </div>"
      ]
     },
     "metadata": {},
     "output_type": "display_data"
    }
   ],
   "source": [
    "# Define custom order\n",
    "custom_order = ['Rest_1', 'Prepare_Speech', 'Give_Speech', 'Rest_2', \n",
    "                'Mental_Math', 'Rest_3', 'Bike_Legs', 'Bike_Hands']\n",
    "\n",
    "# Convert 'activity' column to categorical with specified order\n",
    "df_final['activity'] = pd.Categorical(df_smartwatch_rmssd['activity'], categories=custom_order, ordered=True)\n",
    "df_final_biopac['activity'] = pd.Categorical(df_biopac_rmssd['activity'], categories=custom_order, ordered=True)\n",
    "\n",
    "# Create traces separately for Smartwatch and Biopac\n",
    "trace_smartwatch = go.Box(\n",
    "    x=df_smartwatch_rmssd[\"activity\"],  # Activity on x-axis\n",
    "    y=df_smartwatch_rmssd[\"RMSSD\"],  # Smartwatch HR on y-axis\n",
    "    name=\"Smartwatch\",  # Legend name,\n",
    "    boxpoints='all', # represent all points\n",
    "    marker=dict(color=\"#00439D\")  # Blue color\n",
    ")\n",
    "\n",
    "trace_biopac = go.Box(\n",
    "    x=df_biopac_rmssd[\"activity\"],  # Activity on x-axis\n",
    "    y=df_biopac_rmssd[\"RMSSD\"],  # Biopac HR on y-axis\n",
    "    name=\"Biopac\",  # Legend name,\n",
    "    boxpoints='all', # represent all points\n",
    "    marker=dict(color=\"#FF5733\")  # Orange color\n",
    ")\n",
    "\n",
    "# Create the figure and add both traces\n",
    "fig = go.Figure(data=[trace_smartwatch, trace_biopac])\n",
    "\n",
    "# Update layout\n",
    "fig.update_layout(\n",
    "    title=dict(\n",
    "        text=\"Heart Rate (RMSSD (ms)) Distribution by Activity\",\n",
    "        font=dict(size=24, color=\"black\"),\n",
    "        x=0.5,\n",
    "\n",
    "        xanchor=\"center\"\n",
    "    ),\n",
    "    xaxis=dict(\n",
    "        title=\"Activity ID\",\n",
    "        title_font=dict(size=16, color=\"black\"),\n",
    "        tickfont=dict(size=14, color=\"black\"),\n",
    "        categoryorder=\"array\",  # Ensure correct order\n",
    "        categoryarray=custom_order\n",
    "    ),\n",
    "    yaxis=dict(\n",
    "        title=\"Heart Rate Average\",\n",
    "        title_font=dict(size=16, color=\"black\"),\n",
    "        tickfont=dict(size=14, color=\"black\")\n",
    "    ),\n",
    "    plot_bgcolor=\"rgba(240, 240, 240, 1)\",  # Light gray background\n",
    "    paper_bgcolor=\"rgba(230, 230, 230, 1)\", # Slightly darker gray background\n",
    "    boxmode=\"group\"  # Ensures side-by-side grouping\n",
    ")\n",
    "# print(\"fsdfs\")\n",
    "# Show the figure\n",
    "fig.show()"
   ]
  },
  {
   "cell_type": "code",
   "execution_count": null,
   "id": "a74926d0",
   "metadata": {},
   "outputs": [],
   "source": []
  },
  {
   "cell_type": "code",
   "execution_count": null,
   "id": "5d408866",
   "metadata": {},
   "outputs": [],
   "source": []
  },
  {
   "cell_type": "code",
   "execution_count": null,
   "id": "3df6a154",
   "metadata": {},
   "outputs": [],
   "source": []
  },
  {
   "cell_type": "code",
   "execution_count": null,
   "id": "2454732c",
   "metadata": {},
   "outputs": [],
   "source": []
  },
  {
   "cell_type": "code",
   "execution_count": null,
   "id": "27e972c2",
   "metadata": {},
   "outputs": [],
   "source": []
  }
 ],
 "metadata": {
  "kernelspec": {
   "display_name": "Python 3 (ipykernel)",
   "language": "python",
   "name": "python3"
  },
  "language_info": {
   "codemirror_mode": {
    "name": "ipython",
    "version": 3
   },
   "file_extension": ".py",
   "mimetype": "text/x-python",
   "name": "python",
   "nbconvert_exporter": "python",
   "pygments_lexer": "ipython3",
   "version": "3.7.13"
  },
  "varInspector": {
   "cols": {
    "lenName": 16,
    "lenType": 16,
    "lenVar": 40
   },
   "kernels_config": {
    "python": {
     "delete_cmd_postfix": "",
     "delete_cmd_prefix": "del ",
     "library": "var_list.py",
     "varRefreshCmd": "print(var_dic_list())"
    },
    "r": {
     "delete_cmd_postfix": ") ",
     "delete_cmd_prefix": "rm(",
     "library": "var_list.r",
     "varRefreshCmd": "cat(var_dic_list()) "
    }
   },
   "types_to_exclude": [
    "module",
    "function",
    "builtin_function_or_method",
    "instance",
    "_Feature"
   ],
   "window_display": false
  }
 },
 "nbformat": 4,
 "nbformat_minor": 5
}
